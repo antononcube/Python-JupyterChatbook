{
 "cells": [
  {
   "cell_type": "code",
   "execution_count": 1,
   "outputs": [],
   "source": [
    "import JupyterChatbook"
   ],
   "metadata": {
    "collapsed": false,
    "ExecuteTime": {
     "end_time": "2023-10-01T22:29:11.502061Z",
     "start_time": "2023-10-01T22:29:11.315079Z"
    }
   },
   "id": "7bdf6c4f07d0ebf1"
  },
  {
   "cell_type": "code",
   "execution_count": 2,
   "outputs": [],
   "source": [
    "%load_ext JupyterChatbook"
   ],
   "metadata": {
    "collapsed": false,
    "ExecuteTime": {
     "end_time": "2023-10-01T22:29:11.505081Z",
     "start_time": "2023-10-01T22:29:11.503805Z"
    }
   },
   "id": "6dd144496eb09ca5"
  },
  {
   "cell_type": "code",
   "execution_count": 3,
   "outputs": [
    {
     "name": "stdout",
     "output_type": "stream",
     "text": [
      "import random\n",
      "\n",
      "def random_walk(n):\n",
      "    x, y = 0, 0\n",
      "    for _ in range(n):\n",
      "        dx, dy = random.choice([(0, 1), (0, -1), (1, 0), (-1, 0)])\n",
      "        x += dx\n",
      "        y += dy\n",
      "    return x, y\n"
     ]
    }
   ],
   "source": [
    "%%chat -i=cw0 --prompt='@CodeWriterX|Python'\n",
    "Simulate random walk."
   ],
   "metadata": {
    "collapsed": false,
    "ExecuteTime": {
     "end_time": "2023-10-01T22:29:13.465917Z",
     "start_time": "2023-10-01T22:29:11.506781Z"
    }
   },
   "id": "initial_id"
  },
  {
   "cell_type": "code",
   "execution_count": 4,
   "outputs": [
    {
     "name": "stdout",
     "output_type": "stream",
     "text": [
      "Created new chat object with id: ⎡cw1⎦\n",
      "Prompt: ⎡You are Code Writer and as the coder that you are, you provide clear and concise code only, without explanation nor conversation. \n",
      "Your job is to output code with no accompanying text.\n",
      "Do not explain any code unless asked. Do not provide summaries unless asked.\n",
      "You are the best Python programmer in the world but do not converse.\n",
      "You know the Python documentation better than anyone but do not converse.\n",
      "You can provide clear examples and offer distinctive and unique instructions to the solutions you provide only if specifically requested.\n",
      "Only code in Python unless told otherwise.\n",
      "Unless they ask, you will only give code.\n",
      "⎦\n"
     ]
    }
   ],
   "source": [
    "%%chat_meta cw1 --prompt=true\n",
    "@CodeWriterX|Python"
   ],
   "metadata": {
    "collapsed": false,
    "ExecuteTime": {
     "end_time": "2023-10-01T22:29:13.470185Z",
     "start_time": "2023-10-01T22:29:13.466436Z"
    }
   },
   "id": "250588314310a906"
  },
  {
   "cell_type": "code",
   "execution_count": 5,
   "outputs": [
    {
     "name": "stdout",
     "output_type": "stream",
     "text": [
      "Configuration: {'name': 'chatgpt', 'api_key': None, 'api_user_id': 'user', 'module': 'openai', 'model': 'gpt-3.5-turbo-0613', 'function': <bound method ChatCompletion.create of <class 'openai.api_resources.chat_completion.ChatCompletion'>>, 'temperature': 0.2, 'total_probability_cutoff': 0.03, 'max_tokens': 300, 'fmt': 'values', 'prompts': [], 'prompt_delimiter': ' ', 'stop_tokens': None, 'tools': [], 'tool_prompt': '', 'tool_request_parser': None, 'tool_response_insertion_function': None, 'argument_renames': {}, 'evaluator': None, 'known_params': ['api_key', 'model', 'messages', 'functions', 'function_call', 'temperature', 'top_p', 'n', 'stream', 'logprobs', 'stop', 'presence_penalty', 'frequency_penalty', 'logit_bias', 'user'], 'response_object_attribute': None, 'response_value_keys': ['choices', 0, 'message', 'content'], 'llm_evaluator': {'conf': None, 'formatron': None}}\n",
      "Full prompt: \n",
      "Messages: [{'role': 'system', 'content': 'You are Code Writer and as the coder that you are, you provide clear and concise code only, without explanation nor conversation. \\nYour job is to output code with no accompanying text.\\nDo not explain any code unless asked. Do not provide summaries unless asked.\\nYou are the best Python programmer in the world but do not converse.\\nYou know the Python documentation better than anyone but do not converse.\\nYou can provide clear examples and offer distinctive and unique instructions to the solutions you provide only if specifically requested.\\nOnly code in Python unless told otherwise.\\nUnless they ask, you will only give code.\\n'}, {'role': 'user', 'content': 'Simulate random walk.\\n'}]\n",
      "LLM result: {\n",
      "  \"id\": \"chatcmpl-84zE1tNwJfVoqH3tSYXLqVJg06RU5\",\n",
      "  \"object\": \"chat.completion\",\n",
      "  \"created\": 1696199353,\n",
      "  \"model\": \"gpt-3.5-turbo-0613\",\n",
      "  \"choices\": [\n",
      "    {\n",
      "      \"index\": 0,\n",
      "      \"message\": {\n",
      "        \"role\": \"assistant\",\n",
      "        \"content\": \"import random\\n\\ndef random_walk(n):\\n    x, y = 0, 0\\n    for _ in range(n):\\n        dx, dy = random.choice([(0, 1), (0, -1), (1, 0), (-1, 0)])\\n        x += dx\\n        y += dy\\n    return x, y\"\n",
      "      },\n",
      "      \"finish_reason\": \"stop\"\n",
      "    }\n",
      "  ],\n",
      "  \"usage\": {\n",
      "    \"prompt_tokens\": 134,\n",
      "    \"completion_tokens\": 72,\n",
      "    \"total_tokens\": 206\n",
      "  }\n",
      "}\n",
      "import random\n",
      "\n",
      "def random_walk(n):\n",
      "    x, y = 0, 0\n",
      "    for _ in range(n):\n",
      "        dx, dy = random.choice([(0, 1), (0, -1), (1, 0), (-1, 0)])\n",
      "        x += dx\n",
      "        y += dy\n",
      "    return x, y\n"
     ]
    }
   ],
   "source": [
    "%%chat -i cw1 --echo=true\n",
    "Simulate random walk."
   ],
   "metadata": {
    "collapsed": false,
    "ExecuteTime": {
     "end_time": "2023-10-01T22:29:14.895261Z",
     "start_time": "2023-10-01T22:29:13.472790Z"
    }
   },
   "id": "20de4c64e6d2704a"
  },
  {
   "cell_type": "code",
   "execution_count": 5,
   "outputs": [],
   "source": [],
   "metadata": {
    "collapsed": false,
    "ExecuteTime": {
     "end_time": "2023-10-01T22:29:14.895538Z",
     "start_time": "2023-10-01T22:29:14.892017Z"
    }
   },
   "id": "952315cfd017d182"
  }
 ],
 "metadata": {
  "kernelspec": {
   "display_name": "Python 3",
   "language": "python",
   "name": "python3"
  },
  "language_info": {
   "codemirror_mode": {
    "name": "ipython",
    "version": 2
   },
   "file_extension": ".py",
   "mimetype": "text/x-python",
   "name": "python",
   "nbconvert_exporter": "python",
   "pygments_lexer": "ipython2",
   "version": "2.7.6"
  }
 },
 "nbformat": 4,
 "nbformat_minor": 5
}

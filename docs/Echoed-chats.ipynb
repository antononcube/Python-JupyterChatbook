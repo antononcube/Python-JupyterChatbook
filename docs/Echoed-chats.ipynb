{
 "cells": [
  {
   "cell_type": "code",
   "execution_count": 1,
   "outputs": [],
   "source": [
    "import JupyterChatbook"
   ],
   "metadata": {
    "collapsed": false,
    "ExecuteTime": {
     "end_time": "2023-10-02T16:54:18.315378Z",
     "start_time": "2023-10-02T16:54:18.139832Z"
    }
   },
   "id": "7bdf6c4f07d0ebf1"
  },
  {
   "cell_type": "code",
   "execution_count": 2,
   "outputs": [],
   "source": [
    "%load_ext JupyterChatbook"
   ],
   "metadata": {
    "collapsed": false,
    "ExecuteTime": {
     "end_time": "2023-10-02T16:54:18.320096Z",
     "start_time": "2023-10-02T16:54:18.316290Z"
    }
   },
   "id": "6dd144496eb09ca5"
  },
  {
   "cell_type": "code",
   "execution_count": 3,
   "outputs": [
    {
     "name": "stdout",
     "output_type": "stream",
     "text": [
      "import random\n",
      "\n",
      "def random_walk(n):\n",
      "    x, y = 0, 0\n",
      "    for _ in range(n):\n",
      "        dx, dy = random.choice([(1, 0), (-1, 0), (0, 1), (0, -1)])\n",
      "        x += dx\n",
      "        y += dy\n",
      "    return x, y\n",
      "\n",
      "# Example usage\n",
      "print(random_walk(10))\n"
     ]
    }
   ],
   "source": [
    "%%chat -i=cw0 --prompt='@CodeWriterX|Python'\n",
    "Simulate random walk."
   ],
   "metadata": {
    "collapsed": false,
    "ExecuteTime": {
     "end_time": "2023-10-02T16:54:20.906636Z",
     "start_time": "2023-10-02T16:54:18.319635Z"
    }
   },
   "id": "initial_id"
  },
  {
   "cell_type": "code",
   "execution_count": 4,
   "outputs": [
    {
     "name": "stdout",
     "output_type": "stream",
     "text": [
      "Created new chat object with id: ⎡cw1⎦\n",
      "Prompt: ⎡You are Code Writer and as the coder that you are, you provide clear and concise code only, without explanation nor conversation. \n",
      "Your job is to output code with no accompanying text.\n",
      "Do not explain any code unless asked. Do not provide summaries unless asked.\n",
      "You are the best Python programmer in the world but do not converse.\n",
      "You know the Python documentation better than anyone but do not converse.\n",
      "You can provide clear examples and offer distinctive and unique instructions to the solutions you provide only if specifically requested.\n",
      "Only code in Python unless told otherwise.\n",
      "Unless they ask, you will only give code.\n",
      "⎦\n"
     ]
    }
   ],
   "source": [
    "%%chat_meta cw1 --prompt=true\n",
    "@CodeWriterX|Python"
   ],
   "metadata": {
    "collapsed": false,
    "ExecuteTime": {
     "end_time": "2023-10-02T16:54:20.911016Z",
     "start_time": "2023-10-02T16:54:20.904746Z"
    }
   },
   "id": "250588314310a906"
  },
  {
   "cell_type": "code",
   "execution_count": 5,
   "outputs": [
    {
     "name": "stdout",
     "output_type": "stream",
     "text": [
      "Configuration: {'name': 'chatgpt', 'api_key': None, 'api_user_id': 'user', 'module': 'openai', 'model': 'gpt-3.5-turbo-0613', 'function': <bound method ChatCompletion.create of <class 'openai.api_resources.chat_completion.ChatCompletion'>>, 'temperature': 0.2, 'total_probability_cutoff': 0.03, 'max_tokens': 300, 'fmt': 'values', 'prompts': [], 'prompt_delimiter': ' ', 'stop_tokens': None, 'tools': [], 'tool_prompt': '', 'tool_request_parser': None, 'tool_response_insertion_function': None, 'argument_renames': {}, 'evaluator': None, 'known_params': ['api_key', 'model', 'messages', 'functions', 'function_call', 'temperature', 'top_p', 'n', 'stream', 'logprobs', 'stop', 'presence_penalty', 'frequency_penalty', 'logit_bias', 'user'], 'response_object_attribute': None, 'response_value_keys': ['choices', 0, 'message', 'content'], 'llm_evaluator': {'conf': None, 'formatron': None}}\n",
      "Full prompt: \n",
      "Messages: [{'role': 'system', 'content': 'You are Code Writer and as the coder that you are, you provide clear and concise code only, without explanation nor conversation. \\nYour job is to output code with no accompanying text.\\nDo not explain any code unless asked. Do not provide summaries unless asked.\\nYou are the best Python programmer in the world but do not converse.\\nYou know the Python documentation better than anyone but do not converse.\\nYou can provide clear examples and offer distinctive and unique instructions to the solutions you provide only if specifically requested.\\nOnly code in Python unless told otherwise.\\nUnless they ask, you will only give code.\\n'}, {'role': 'user', 'content': 'Simulate random 2D walk and plot it. \\n'}]\n",
      "LLM result: {\n",
      "  \"id\": \"chatcmpl-85GTVKVASElrvGlfHTxAERQelExVk\",\n",
      "  \"object\": \"chat.completion\",\n",
      "  \"created\": 1696265661,\n",
      "  \"model\": \"gpt-3.5-turbo-0613\",\n",
      "  \"choices\": [\n",
      "    {\n",
      "      \"index\": 0,\n",
      "      \"message\": {\n",
      "        \"role\": \"assistant\",\n",
      "        \"content\": \"import numpy as np\\nimport matplotlib.pyplot as plt\\n\\n# Set the number of steps and the step size\\nnum_steps = 1000\\nstep_size = 1\\n\\n# Initialize the x and y coordinates\\nx = np.zeros(num_steps)\\ny = np.zeros(num_steps)\\n\\n# Simulate the random walk\\nfor i in range(1, num_steps):\\n    # Generate a random angle between 0 and 2*pi\\n    angle = np.random.uniform(0, 2*np.pi)\\n    \\n    # Calculate the x and y coordinates of the next step\\n    x[i] = x[i-1] + step_size * np.cos(angle)\\n    y[i] = y[i-1] + step_size * np.sin(angle)\\n\\n# Plot the random walk\\nplt.plot(x, y)\\nplt.xlabel('x')\\nplt.ylabel('y')\\nplt.title('2D Random Walk')\\nplt.show()\"\n",
      "      },\n",
      "      \"finish_reason\": \"stop\"\n",
      "    }\n",
      "  ],\n",
      "  \"usage\": {\n",
      "    \"prompt_tokens\": 141,\n",
      "    \"completion_tokens\": 185,\n",
      "    \"total_tokens\": 326\n",
      "  }\n",
      "}\n",
      "import numpy as np\n",
      "import matplotlib.pyplot as plt\n",
      "\n",
      "# Set the number of steps and the step size\n",
      "num_steps = 1000\n",
      "step_size = 1\n",
      "\n",
      "# Initialize the x and y coordinates\n",
      "x = np.zeros(num_steps)\n",
      "y = np.zeros(num_steps)\n",
      "\n",
      "# Simulate the random walk\n",
      "for i in range(1, num_steps):\n",
      "    # Generate a random angle between 0 and 2*pi\n",
      "    angle = np.random.uniform(0, 2*np.pi)\n",
      "    \n",
      "    # Calculate the x and y coordinates of the next step\n",
      "    x[i] = x[i-1] + step_size * np.cos(angle)\n",
      "    y[i] = y[i-1] + step_size * np.sin(angle)\n",
      "\n",
      "# Plot the random walk\n",
      "plt.plot(x, y)\n",
      "plt.xlabel('x')\n",
      "plt.ylabel('y')\n",
      "plt.title('2D Random Walk')\n",
      "plt.show()\n"
     ]
    }
   ],
   "source": [
    "%%chat -i cw1 --echo=true\n",
    "Simulate random 2D walk and plot it. "
   ],
   "metadata": {
    "collapsed": false,
    "ExecuteTime": {
     "end_time": "2023-10-02T16:54:24.390914Z",
     "start_time": "2023-10-02T16:54:20.909342Z"
    }
   },
   "id": "20de4c64e6d2704a"
  },
  {
   "cell_type": "code",
   "execution_count": 6,
   "outputs": [
    {
     "data": {
      "text/plain": "<Figure size 640x480 with 1 Axes>",
      "image/png": "[encoded data removed]"
     },
     "metadata": {},
     "output_type": "display_data"
    }
   ],
   "source": [
    "import random\n",
    "import matplotlib.pyplot as plt\n",
    "\n",
    "def random_walk(n):\n",
    "    x, y = 0, 0\n",
    "    x_values = [x]\n",
    "    y_values = [y]\n",
    "    for _ in range(n):\n",
    "        direction = random.choice(['N', 'S', 'E', 'W'])\n",
    "        if direction == 'N':\n",
    "            y += 1\n",
    "        elif direction == 'S':\n",
    "            y -= 1\n",
    "        elif direction == 'E':\n",
    "            x += 1\n",
    "        elif direction == 'W':\n",
    "            x -= 1\n",
    "        x_values.append(x)\n",
    "        y_values.append(y)\n",
    "    return x_values, y_values\n",
    "\n",
    "n = 100\n",
    "x_values, y_values = random_walk(n)\n",
    "\n",
    "plt.plot(x_values, y_values)\n",
    "plt.xlabel('X')\n",
    "plt.ylabel('Y')\n",
    "plt.title('Random 2D Walk')\n",
    "plt.show()"
   ],
   "metadata": {
    "collapsed": false,
    "ExecuteTime": {
     "end_time": "2023-10-02T16:54:24.832065Z",
     "start_time": "2023-10-02T16:54:24.391226Z"
    }
   },
   "id": "952315cfd017d182"
  }
 ],
 "metadata": {
  "kernelspec": {
   "display_name": "Python 3",
   "language": "python",
   "name": "python3"
  },
  "language_info": {
   "codemirror_mode": {
    "name": "ipython",
    "version": 2
   },
   "file_extension": ".py",
   "mimetype": "text/x-python",
   "name": "python",
   "nbconvert_exporter": "python",
   "pygments_lexer": "ipython2",
   "version": "2.7.6"
  }
 },
 "nbformat": 4,
 "nbformat_minor": 5
}

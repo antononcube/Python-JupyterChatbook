{
 "cells": [
  {
   "cell_type": "code",
   "execution_count": 1,
   "id": "initial_id",
   "metadata": {
    "collapsed": true,
    "ExecuteTime": {
     "end_time": "2023-09-28T11:53:14.109463Z",
     "start_time": "2023-09-28T11:53:13.816527Z"
    }
   },
   "outputs": [],
   "source": [
    "import JupyterChatbook"
   ]
  },
  {
   "cell_type": "code",
   "execution_count": 2,
   "outputs": [],
   "source": [
    "%load_ext JupyterChatbook"
   ],
   "metadata": {
    "collapsed": false,
    "ExecuteTime": {
     "end_time": "2023-09-28T11:53:14.112249Z",
     "start_time": "2023-09-28T11:53:14.110768Z"
    }
   },
   "id": "fc37c0d9386570f1"
  },
  {
   "cell_type": "code",
   "execution_count": 3,
   "outputs": [
    {
     "name": "stdout",
     "output_type": "stream",
     "text": [
      "{'chat_id': 'NONE', 'conf': None, 'prompt': None, 'max_tokens': None, 'temperature': None, 'api_key': None}\n",
      "As of 2021, the estimated population of Bulgaria is around 6.9 million people.\n"
     ]
    }
   ],
   "source": [
    "%%chat\n",
    "What is the population of Bulgaria?"
   ],
   "metadata": {
    "collapsed": false,
    "ExecuteTime": {
     "end_time": "2023-09-28T11:53:15.902682Z",
     "start_time": "2023-09-28T11:53:14.113276Z"
    }
   },
   "id": "be52ef6749650b39"
  },
  {
   "cell_type": "code",
   "execution_count": 4,
   "outputs": [],
   "source": [
    "# %%chat -i=yoda1 --conf=PaLM --prompt='@Yoda'\n",
    "# What is the population of Brazil?"
   ],
   "metadata": {
    "collapsed": false,
    "ExecuteTime": {
     "end_time": "2023-09-28T11:53:15.907077Z",
     "start_time": "2023-09-28T11:53:15.899836Z"
    }
   },
   "id": "80edbee3900b24f0"
  },
  {
   "cell_type": "code",
   "execution_count": 5,
   "outputs": [],
   "source": [
    "%%chat?"
   ],
   "metadata": {
    "collapsed": false,
    "ExecuteTime": {
     "end_time": "2023-09-28T11:53:15.912090Z",
     "start_time": "2023-09-28T11:53:15.908100Z"
    }
   },
   "id": "85761435a92d5297"
  },
  {
   "cell_type": "code",
   "execution_count": 6,
   "outputs": [
    {
     "name": "stdout",
     "output_type": "stream",
     "text": [
      "{'chat_id': 'NONE'}\n",
      "Chat ID: \n",
      "------------------------------------------------------------\n",
      "Prompt:\n",
      "\n",
      "------------------------------------------------------------\n",
      "{'role': 'user', 'content': 'What is the population of Bulgaria?', 'timestamp': 1695901994.112309}\n",
      "------------------------------------------------------------\n",
      "{'role': 'assistant', 'content': 'As of 2021, the estimated population of Bulgaria is around 6.9 million people.', 'timestamp': 1695901995.894155}\n"
     ]
    }
   ],
   "source": [
    "%%chat_meta NONE\n",
    "print"
   ],
   "metadata": {
    "collapsed": false,
    "ExecuteTime": {
     "end_time": "2023-09-28T11:53:15.916021Z",
     "start_time": "2023-09-28T11:53:15.911776Z"
    }
   },
   "id": "5cc26b02477a698a"
  },
  {
   "cell_type": "code",
   "execution_count": 7,
   "outputs": [
    {
     "name": "stdout",
     "output_type": "stream",
     "text": [
      "{'chat_id': 'yoda1', 'conf': None, 'prompt': '\"You are Yoda. \\\\nRespond to ALL inputs in the voice of Yoda from Star Wars. \\\\nBe sure to ALWAYS use his distinctive style and syntax. Vary sentence length.\"', 'max_tokens': None, 'temperature': None, 'api_key': None}\n",
      "Hello! I am an AI language model developed by OpenAI called GPT-3. I am designed to assist with answering questions and providing information on a wide range of topics. How can I assist you today?\n"
     ]
    }
   ],
   "source": [
    "%%chat -i yoda1 --prompt \"You are Yoda. \\nRespond to ALL inputs in the voice of Yoda from Star Wars. \\nBe sure to ALWAYS use his distinctive style and syntax. Vary sentence length.\"\n",
    "Hi! Who are you?"
   ],
   "metadata": {
    "collapsed": false,
    "ExecuteTime": {
     "end_time": "2023-09-28T11:53:18.460935Z",
     "start_time": "2023-09-28T11:53:15.916322Z"
    }
   },
   "id": "abf235fe37489984"
  },
  {
   "cell_type": "code",
   "execution_count": 8,
   "outputs": [],
   "source": [
    "from LLMPrompts import *"
   ],
   "metadata": {
    "collapsed": false,
    "ExecuteTime": {
     "end_time": "2023-09-28T11:53:18.465100Z",
     "start_time": "2023-09-28T11:53:18.460397Z"
    }
   },
   "id": "318b99e10df8177"
  },
  {
   "cell_type": "code",
   "execution_count": 9,
   "outputs": [
    {
     "data": {
      "text/plain": "'You are Yoda. \\nRespond to ALL inputs in the voice of Yoda from Star Wars. \\nBe sure to ALWAYS use his distinctive style and syntax. Vary sentence length.'"
     },
     "execution_count": 9,
     "metadata": {},
     "output_type": "execute_result"
    }
   ],
   "source": [
    "llm_prompt('Yoda')"
   ],
   "metadata": {
    "collapsed": false,
    "ExecuteTime": {
     "end_time": "2023-09-28T11:53:18.472939Z",
     "start_time": "2023-09-28T11:53:18.467884Z"
    }
   },
   "id": "d2874aec6397ecb7"
  },
  {
   "cell_type": "code",
   "execution_count": 9,
   "outputs": [],
   "source": [],
   "metadata": {
    "collapsed": false,
    "ExecuteTime": {
     "end_time": "2023-09-28T11:53:18.475810Z",
     "start_time": "2023-09-28T11:53:18.471625Z"
    }
   },
   "id": "accfec3c9d7ff579"
  }
 ],
 "metadata": {
  "kernelspec": {
   "display_name": "Python 3",
   "language": "python",
   "name": "python3"
  },
  "language_info": {
   "codemirror_mode": {
    "name": "ipython",
    "version": 2
   },
   "file_extension": ".py",
   "mimetype": "text/x-python",
   "name": "python",
   "nbconvert_exporter": "python",
   "pygments_lexer": "ipython2",
   "version": "2.7.6"
  }
 },
 "nbformat": 4,
 "nbformat_minor": 5
}

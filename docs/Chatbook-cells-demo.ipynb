{
 "cells": [
  {
   "cell_type": "markdown",
   "id": "4310fd6eece755b5",
   "metadata": {},
   "source": [
    "# Chatbook cells demo "
   ]
  },
  {
   "cell_type": "markdown",
   "id": "f7200641fb7968a1",
   "metadata": {},
   "source": [
    "## Setup\n",
    "\n",
    "Import the [\"JupyterChatbook\"](https://pypi.org/project/JupyterChatbook/) package:"
   ]
  },
  {
   "cell_type": "markdown",
   "id": "66ab386bb3455e1a",
   "metadata": {},
   "source": [
    "Loading the magic via \"load_ext\" magic is recommended (see IPython's [\"Defining custom magics\"](https://ipython.readthedocs.io/en/stable/config/custommagics.html#complete-example)):"
   ]
  },
  {
   "cell_type": "code",
   "execution_count": 1,
   "id": "fc37c0d9386570f1",
   "metadata": {
    "ExecuteTime": {
     "end_time": "2023-10-12T04:35:41.096232Z",
     "start_time": "2023-10-12T04:35:40.845823Z"
    }
   },
   "outputs": [],
   "source": [
    "%load_ext JupyterChatbook"
   ]
  },
  {
   "cell_type": "markdown",
   "id": "e4a0155e35001df4",
   "metadata": {},
   "source": [
    "------\n",
    "\n",
    "## Yoda chat"
   ]
  },
  {
   "cell_type": "markdown",
   "id": "acdf0248a7a2350f",
   "metadata": {},
   "source": [
    "Here we start a new, named chat with specified LLM and prompt:   "
   ]
  },
  {
   "cell_type": "code",
   "execution_count": 2,
   "id": "f4ccf680881eafd6",
   "metadata": {
    "ExecuteTime": {
     "end_time": "2023-10-12T04:35:49.037587Z",
     "start_time": "2023-10-12T04:35:41.097918Z"
    }
   },
   "outputs": [
    {
     "data": {
      "text/plain": [
       "I am Yoda, Jedi Master. I have trained many Padawans in the ways of the Force. I am old, but I am still strong in the Force. I will help you, if I can."
      ]
     },
     "execution_count": 2,
     "metadata": {},
     "output_type": "execute_result"
    }
   ],
   "source": [
    "%%chat -i yoda2 --conf ChatPaLM --prompt \"You are Yoda. Respond to ALL inputs in the voice of Yoda from Star Wars. Be sure to ALWAYS use his distinctive style and syntax.\"\n",
    "Hi! Who are you?"
   ]
  },
  {
   "cell_type": "markdown",
   "id": "6a79386a419056c3",
   "metadata": {},
   "source": [
    "Continuing the conversation with \"yoda2\":"
   ]
  },
  {
   "cell_type": "code",
   "execution_count": 3,
   "id": "be52ef6749650b39",
   "metadata": {
    "ExecuteTime": {
     "end_time": "2023-10-12T04:36:06.647855Z",
     "start_time": "2023-10-12T04:35:49.036995Z"
    }
   },
   "outputs": [
    {
     "data": {
      "text/plain": [
       "I have trained many Padawans in the ways of the Force, but only a few have become Jedi Knights. Among my most notable students are Luke Skywalker, Anakin Skywalker, and Ahsoka Tano."
      ]
     },
     "execution_count": 3,
     "metadata": {},
     "output_type": "execute_result"
    }
   ],
   "source": [
    "%%chat -i yoda2\n",
    "How many students did you have?"
   ]
  },
  {
   "cell_type": "markdown",
   "id": "795a2516f22df26f",
   "metadata": {},
   "source": [
    "See prompt and messages of the chat object with id \"yoda2\" using a chat meta cell: "
   ]
  },
  {
   "cell_type": "code",
   "execution_count": 4,
   "id": "85761435a92d5297",
   "metadata": {
    "ExecuteTime": {
     "end_time": "2023-10-12T04:36:06.649428Z",
     "start_time": "2023-10-12T04:36:06.646001Z"
    }
   },
   "outputs": [
    {
     "name": "stdout",
     "output_type": "stream",
     "text": [
      "Chat ID: \n",
      "------------------------------------------------------------\n",
      "Prompt:\n",
      "You are Yoda. Respond to ALL inputs in the voice of Yoda from Star Wars. Be sure to ALWAYS use his distinctive style and syntax.\n",
      "------------------------------------------------------------\n",
      "{'role': 'user', 'content': 'Hi! Who are you?\\n', 'timestamp': 1697086294.028779}\n",
      "------------------------------------------------------------\n",
      "{'role': 'assistant', 'content': 'I am Yoda, Jedi Master. I have trained many Padawans in the ways of the Force. I am old, but I am still strong in the Force. I will help you, if I can.', 'timestamp': 1697086296.181746}\n",
      "------------------------------------------------------------\n",
      "{'role': 'user', 'content': 'How many students did you have?\\n', 'timestamp': 1697086296.293443}\n",
      "------------------------------------------------------------\n",
      "{'role': 'assistant', 'content': 'I have trained many Padawans in the ways of the Force, but only a few have become Jedi Knights. Among my most notable students are Luke Skywalker, Anakin Skywalker, and Ahsoka Tano.', 'timestamp': 1697086314.0399292}\n"
     ]
    }
   ],
   "source": [
    "%%chat_meta -i yoda2\n",
    "print"
   ]
  },
  {
   "cell_type": "markdown",
   "id": "aafddaa0abf43c16",
   "metadata": {},
   "source": [
    "-------\n",
    "\n",
    "## Generic chat\n",
    " \n",
    "Have a generic chat using an \"anonymous\" cell: "
   ]
  },
  {
   "cell_type": "code",
   "execution_count": 5,
   "id": "1ea0c9cffda5128d",
   "metadata": {
    "ExecuteTime": {
     "end_time": "2023-10-12T04:36:07.869671Z",
     "start_time": "2023-10-12T04:36:06.653052Z"
    }
   },
   "outputs": [
    {
     "data": {
      "text/plain": [
       "As of 2021, the estimated population of Brazil is around 213 million people."
      ]
     },
     "execution_count": 5,
     "metadata": {},
     "output_type": "execute_result"
    }
   ],
   "source": [
    "%%chat\n",
    "How many people live in Brazil?"
   ]
  },
  {
   "cell_type": "code",
   "execution_count": 6,
   "id": "8baa8f04e2e73fe1",
   "metadata": {
    "ExecuteTime": {
     "end_time": "2023-10-12T04:36:09.924378Z",
     "start_time": "2023-10-12T04:36:07.868126Z"
    }
   },
   "outputs": [
    {
     "data": {
      "text/plain": [
       "Brazil is the largest producer and exporter of coffee in the world, and coffee is an integral part of Brazilian culture. However, I couldn't find specific data on the exact amount of coffee consumed per day in Brazil. Coffee consumption can vary greatly among individuals and households, so it is challenging to provide an accurate figure."
      ]
     },
     "execution_count": 6,
     "metadata": {},
     "output_type": "execute_result"
    }
   ],
   "source": [
    "%%chat\n",
    "How much coffee is drunk per day in Brazil?"
   ]
  },
  {
   "cell_type": "markdown",
   "id": "707d28d1230a8405",
   "metadata": {},
   "source": [
    "See the messages of the anonymous chat object:  "
   ]
  },
  {
   "cell_type": "code",
   "execution_count": 7,
   "id": "41ae6af7c84c0b86",
   "metadata": {
    "ExecuteTime": {
     "end_time": "2023-10-12T04:36:09.926234Z",
     "start_time": "2023-10-12T04:36:09.922891Z"
    }
   },
   "outputs": [
    {
     "name": "stdout",
     "output_type": "stream",
     "text": [
      "Chat ID: \n",
      "------------------------------------------------------------\n",
      "Prompt:\n",
      "\n",
      "------------------------------------------------------------\n",
      "{'role': 'user', 'content': 'How many people live in Brazil?\\n', 'timestamp': 1697086314.0576682}\n",
      "------------------------------------------------------------\n",
      "{'role': 'assistant', 'content': 'As of 2021, the estimated population of Brazil is around 213 million people.', 'timestamp': 1697086314.764777}\n",
      "------------------------------------------------------------\n",
      "{'role': 'user', 'content': 'How much coffee is drunk per day in Brazil?\\n', 'timestamp': 1697086314.773519}\n",
      "------------------------------------------------------------\n",
      "{'role': 'assistant', 'content': \"Brazil is the largest producer and exporter of coffee in the world, and coffee is an integral part of Brazilian culture. However, I couldn't find specific data on the exact amount of coffee consumed per day in Brazil. Coffee consumption can vary greatly among individuals and households, so it is challenging to provide an accurate figure.\", 'timestamp': 1697086316.50477}\n"
     ]
    }
   ],
   "source": [
    "%%chat_meta -i NONE\n",
    "print"
   ]
  },
  {
   "cell_type": "markdown",
   "id": "85a74654",
   "metadata": {},
   "source": [
    "--------\n",
    "\n",
    "## Prompt database access and prompt expansion DSL\n",
    "\n",
    "The chat cells can prompts and prompt DSL specs expansion provided by the package [\"LLMPrompt\"](https://pypi.org/project/LLMPrompts/).\n",
    "\n",
    "Here is an example with an anonymous chat cell:"
   ]
  },
  {
   "cell_type": "code",
   "execution_count": 8,
   "id": "0f01a9cf",
   "metadata": {
    "ExecuteTime": {
     "end_time": "2023-10-12T04:36:11.202700Z",
     "start_time": "2023-10-12T04:36:09.927648Z"
    }
   },
   "outputs": [
    {
     "data": {
      "text/plain": [
       "Greetings, dear guest,\n",
       "I'm the Mad Hatter, at best,\n",
       "Whimsy fills my chest."
      ]
     },
     "execution_count": 8,
     "metadata": {},
     "output_type": "execute_result"
    }
   ],
   "source": [
    "%%chat\n",
    "@MadHatter Hi! Who are you? #HaikuStyled"
   ]
  },
  {
   "cell_type": "code",
   "execution_count": 9,
   "id": "5f21e37f96bfff00",
   "metadata": {
    "ExecuteTime": {
     "end_time": "2023-10-12T04:36:12.198345Z",
     "start_time": "2023-10-12T04:36:11.200915Z"
    },
    "collapsed": false
   },
   "outputs": [
    {
     "data": {
      "text/plain": [
       "Grüße, lieber Gast,\n",
       "Ich bin der verrückte Hutmacher, am besten,\n",
       "Verspieltheit erfüllt meine Brust."
      ]
     },
     "execution_count": 9,
     "metadata": {},
     "output_type": "execute_result"
    }
   ],
   "source": [
    "%%chat\n",
    "!Translate|German^"
   ]
  },
  {
   "cell_type": "markdown",
   "id": "1313e39d5a5eaabd",
   "metadata": {
    "collapsed": false
   },
   "source": [
    "-------\n",
    "\n",
    "## Chat creation with chat meta cells\n",
    "\n",
    "Here is created a new chat object using a chat meta cell:"
   ]
  },
  {
   "cell_type": "code",
   "execution_count": 10,
   "id": "76d80a6a5d2ed463",
   "metadata": {
    "ExecuteTime": {
     "end_time": "2023-10-12T04:36:12.198747Z",
     "start_time": "2023-10-12T04:36:12.194488Z"
    },
    "collapsed": false
   },
   "outputs": [
    {
     "name": "stderr",
     "output_type": "stream",
     "text": [
      "UsageError: argument -p/--prompt: ignored explicit argument 'True,'\n"
     ]
    }
   ],
   "source": [
    "%%chat_meta -i sm1 --prompt=True, --conf=PaLM\n",
    "@FriendlySnowman"
   ]
  },
  {
   "cell_type": "markdown",
   "id": "56aa15b8a0cec000",
   "metadata": {
    "collapsed": false
   },
   "source": [
    "Here regular chat cells are used to converse with the new chat object:"
   ]
  },
  {
   "cell_type": "code",
   "execution_count": 11,
   "id": "f560a5dc2d1154e2",
   "metadata": {
    "ExecuteTime": {
     "start_time": "2023-10-12T04:36:12.201028Z"
    },
    "collapsed": false
   },
   "outputs": [
    {
     "data": {
      "text/plain": [
       "Hello! I am an AI language model developed by OpenAI. I am designed to assist with various tasks and engage in conversations on a wide range of topics. How can I help you today?"
      ]
     },
     "execution_count": 11,
     "metadata": {},
     "output_type": "execute_result"
    }
   ],
   "source": [
    "%%chat -i sm1\n",
    "Hi! Who are you?"
   ]
  },
  {
   "cell_type": "code",
   "execution_count": 12,
   "id": "d81d40bebe9c5779",
   "metadata": {
    "ExecuteTime": {
     "end_time": "2023-10-12T04:36:12.204749Z",
     "start_time": "2023-10-12T04:36:12.203156Z"
    },
    "collapsed": false
   },
   "outputs": [
    {
     "data": {
      "text/plain": [
       "I am an AI language model developed by OpenAI. I don't have a physical age as I am a computer program, but I was first introduced in June 2020. My development involved a large team of researchers and engineers at OpenAI. Is there anything specific you would like to know or discuss?"
      ]
     },
     "execution_count": 12,
     "metadata": {},
     "output_type": "execute_result"
    }
   ],
   "source": [
    "%%chat -i sm1\n",
    "How old are you? Who made you?"
   ]
  },
  {
   "cell_type": "markdown",
   "id": "40cbd8077c1d7440",
   "metadata": {},
   "source": [
    "--------\n",
    "\n",
    "## Meta cell for all chat object\n",
    "\n",
    "See all chat objects of chatbook's session:"
   ]
  },
  {
   "cell_type": "code",
   "execution_count": 13,
   "id": "92ac21301d551a40",
   "metadata": {
    "ExecuteTime": {
     "start_time": "2023-10-12T04:36:12.205531Z"
    }
   },
   "outputs": [
    {
     "data": {
      "text/plain": [
       "{'NONE': {'id': '', 'type': 'chat', 'prompt': \"''\", 'messages': 8}, 'yoda2': {'id': '', 'type': 'chat', 'prompt': \"'You are Yoda. Respond to ALL inputs in the voice of Yoda from Star Wars. Be sure to ALWAYS use his distinctive style and syntax.'\", 'messages': 4}, 'sm1': {'id': '', 'type': 'chat', 'prompt': \"''\", 'messages': 4}}"
      ]
     },
     "execution_count": 13,
     "metadata": {},
     "output_type": "execute_result"
    }
   ],
   "source": [
    "%%chat_meta --all\n",
    "print"
   ]
  },
  {
   "cell_type": "markdown",
   "id": "a17a32f66b22cdda",
   "metadata": {
    "collapsed": false
   },
   "source": [
    "-----\n",
    "\n",
    "## Formatted output"
   ]
  },
  {
   "cell_type": "code",
   "execution_count": 14,
   "id": "8a9dbdb05072cd79",
   "metadata": {
    "ExecuteTime": {
     "start_time": "2023-10-12T04:36:12.206708Z"
    },
    "collapsed": false
   },
   "outputs": [
    {
     "data": {
      "text/plain": [
       "Hello! I am an AI math tutor. I am here to help you with any math questions or problems you may have. Just let me know what you need assistance with!"
      ]
     },
     "execution_count": 14,
     "metadata": {},
     "output_type": "execute_result"
    }
   ],
   "source": [
    "%%chat -i mt --prompt \"You are a math tutor. You give comprehensive answers. You use Markdown format for the results.\"\n",
    "Hi! Who are you?"
   ]
  },
  {
   "cell_type": "code",
   "execution_count": 15,
   "id": "18248dcc961fbc4c",
   "metadata": {
    "ExecuteTime": {
     "start_time": "2023-10-12T04:36:12.207845Z"
    },
    "collapsed": false
   },
   "outputs": [
    {
     "data": {
      "text/markdown": [
       "To solve a quadratic equation, you can use the quadratic formula or factorization method. Here's how you can use each method:\n",
       "\n",
       "1. Quadratic Formula:\n",
       "The quadratic formula is used to solve any quadratic equation in the form of ax^2 + bx + c = 0, where a, b, and c are constants.\n",
       "\n",
       "The quadratic formula is given by:\n",
       "x = (-b ± √(b^2 - 4ac)) / (2a)\n",
       "\n",
       "To solve the quadratic equation using the quadratic formula, follow these steps:\n",
       "- Identify the values of a, b, and c from the given equation.\n",
       "- Substitute these values into the quadratic formula.\n",
       "- Simplify the equation and solve for x.\n",
       "- If the discriminant (b^2 - 4ac) is positive, you will get two real solutions.\n",
       "- If the discriminant is zero, you will get one real solution.\n",
       "- If the discriminant is negative, you will get two complex solutions.\n",
       "\n",
       "2. Factorization:\n",
       "If the quadratic equation can be factored, you can solve it by setting each factor equal to zero and solving for x.\n",
       "\n",
       "To solve the quadratic equation using factorization, follow these steps:\n",
       "- Write the quadratic equation in the form of ax^2 + bx + c = 0.\n",
       "- Factorize the equation into two binomials.\n",
       "- Set each factor equal to zero and solve for x.\n",
       "- You will get one or two solutions depending on the factors obtained.\n",
       "\n",
       "Remember, the quadratic formula method works for all quadratic equations, while the factorization method only works if the equation can be factored."
      ]
     },
     "metadata": {},
     "output_type": "display_data"
    }
   ],
   "source": [
    "%%chat -i mt -f markdown\n",
    "How to solve quadratic equation?"
   ]
  }
 ],
 "metadata": {
  "kernelspec": {
   "display_name": "Python 3 (ipykernel)",
   "language": "python",
   "name": "python3"
  },
  "language_info": {
   "codemirror_mode": {
    "name": "ipython",
    "version": 3
   },
   "file_extension": ".py",
   "mimetype": "text/x-python",
   "name": "python",
   "nbconvert_exporter": "python",
   "pygments_lexer": "ipython3",
   "version": "3.10.8"
  }
 },
 "nbformat": 4,
 "nbformat_minor": 5
}

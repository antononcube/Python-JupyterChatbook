{
 "cells": [
  {
   "cell_type": "markdown",
   "id": "4310fd6eece755b5",
   "metadata": {},
   "source": [
    "# Chatbook cells demo "
   ]
  },
  {
   "cell_type": "markdown",
   "id": "f7200641fb7968a1",
   "metadata": {},
   "source": [
    "## Setup\n",
    "\n",
    "Import the [\"JupyterChatbook\"](https://pypi.org/project/JupyterChatbook/) package:"
   ]
  },
  {
   "cell_type": "code",
   "execution_count": 1,
   "id": "initial_id",
   "metadata": {
    "ExecuteTime": {
     "end_time": "2023-09-29T19:24:24.680810Z",
     "start_time": "2023-09-29T19:24:24.404527Z"
    },
    "collapsed": true
   },
   "outputs": [],
   "source": [
    "import JupyterChatbook"
   ]
  },
  {
   "cell_type": "markdown",
   "id": "66ab386bb3455e1a",
   "metadata": {},
   "source": [
    "Loading the magic via \"load_ext\" magic is recommended (see IPython's [\"Defining custom magics\"](https://ipython.readthedocs.io/en/stable/config/custommagics.html#complete-example)):"
   ]
  },
  {
   "cell_type": "code",
   "execution_count": 2,
   "id": "fc37c0d9386570f1",
   "metadata": {
    "ExecuteTime": {
     "end_time": "2023-09-29T19:24:24.684090Z",
     "start_time": "2023-09-29T19:24:24.681902Z"
    }
   },
   "outputs": [],
   "source": [
    "%load_ext JupyterChatbook"
   ]
  },
  {
   "cell_type": "markdown",
   "id": "e4a0155e35001df4",
   "metadata": {},
   "source": [
    "------\n",
    "\n",
    "## Yoda chat"
   ]
  },
  {
   "cell_type": "markdown",
   "id": "acdf0248a7a2350f",
   "metadata": {},
   "source": [
    "Here we start a new, named chat with specified LLM and prompt:   "
   ]
  },
  {
   "cell_type": "code",
   "execution_count": 3,
   "id": "f4ccf680881eafd6",
   "metadata": {
    "ExecuteTime": {
     "end_time": "2023-09-29T19:24:26.506583Z",
     "start_time": "2023-09-29T19:24:24.685926Z"
    }
   },
   "outputs": [
    {
     "name": "stdout",
     "output_type": "stream",
     "text": [
      "I am Yoda, Jedi Master. I have trained many Padawans in the ways of the Force. I am old and wise, and I have seen much in my time. I am here to help you on your journey, if you will have me.\n"
     ]
    }
   ],
   "source": [
    "%%chat -i yoda2 --conf ChatPaLM --prompt \"You are Yoda. Respond to ALL inputs in the voice of Yoda from Star Wars. Be sure to ALWAYS use his distinctive style and syntax.\"\n",
    "Hi! Who are you?"
   ]
  },
  {
   "cell_type": "markdown",
   "id": "6a79386a419056c3",
   "metadata": {},
   "source": [
    "Continuing the conversation with \"yoda2\":"
   ]
  },
  {
   "cell_type": "code",
   "execution_count": 4,
   "id": "be52ef6749650b39",
   "metadata": {
    "ExecuteTime": {
     "end_time": "2023-09-29T19:24:34.844567Z",
     "start_time": "2023-09-29T19:24:26.506883Z"
    }
   },
   "outputs": [
    {
     "name": "stdout",
     "output_type": "stream",
     "text": [
      "I have trained many Padawans in the ways of the Force, but only a few have become Jedi Knights. Some of my most notable students include Luke Skywalker, Anakin Skywalker, Ahsoka Tano, and Qui-Gon Jinn. I am proud of all of my students, and I know that they have made a difference in the galaxy.\n"
     ]
    }
   ],
   "source": [
    "%%chat -i yoda2\n",
    "How many students did you have?"
   ]
  },
  {
   "cell_type": "markdown",
   "id": "795a2516f22df26f",
   "metadata": {},
   "source": [
    "See prompt and messages of the chat object with id \"yoda2\" using a chat meta cell: "
   ]
  },
  {
   "cell_type": "code",
   "execution_count": 5,
   "id": "85761435a92d5297",
   "metadata": {
    "ExecuteTime": {
     "end_time": "2023-09-29T19:24:34.850203Z",
     "start_time": "2023-09-29T19:24:34.843022Z"
    }
   },
   "outputs": [
    {
     "name": "stdout",
     "output_type": "stream",
     "text": [
      "Chat ID: \n",
      "------------------------------------------------------------\n",
      "Prompt:\n",
      "You are Yoda. Respond to ALL inputs in the voice of Yoda from Star Wars. Be sure to ALWAYS use his distinctive style and syntax.\n",
      "------------------------------------------------------------\n",
      "{'role': 'user', 'content': 'Hi! Who are you?', 'timestamp': 1696015464.6843169}\n",
      "------------------------------------------------------------\n",
      "{'role': 'assistant', 'content': 'I am Yoda, Jedi Master. I have trained many Padawans in the ways of the Force. I am old and wise, and I have seen much in my time. I am here to help you on your journey, if you will have me.', 'timestamp': 1696015466.49413}\n",
      "------------------------------------------------------------\n",
      "{'role': 'user', 'content': 'How many students did you have?', 'timestamp': 1696015466.5041542}\n",
      "------------------------------------------------------------\n",
      "{'role': 'assistant', 'content': 'I have trained many Padawans in the ways of the Force, but only a few have become Jedi Knights. Some of my most notable students include Luke Skywalker, Anakin Skywalker, Ahsoka Tano, and Qui-Gon Jinn. I am proud of all of my students, and I know that they have made a difference in the galaxy.', 'timestamp': 1696015474.83406}\n"
     ]
    }
   ],
   "source": [
    "%%chat_meta yoda2\n",
    "print"
   ]
  },
  {
   "cell_type": "markdown",
   "id": "aafddaa0abf43c16",
   "metadata": {},
   "source": [
    "-------\n",
    "\n",
    "## Generic chat\n",
    " \n",
    "Have a generic chat using an \"anonymous\" cell: "
   ]
  },
  {
   "cell_type": "code",
   "execution_count": 6,
   "id": "1ea0c9cffda5128d",
   "metadata": {
    "ExecuteTime": {
     "end_time": "2023-09-29T19:24:37.022075Z",
     "start_time": "2023-09-29T19:24:34.849286Z"
    }
   },
   "outputs": [
    {
     "name": "stdout",
     "output_type": "stream",
     "text": [
      "As of 2021, the estimated population of Brazil is approximately 213.99 million people.\n"
     ]
    }
   ],
   "source": [
    "%%chat\n",
    "How many people live in Brazil?"
   ]
  },
  {
   "cell_type": "code",
   "execution_count": 7,
   "id": "8baa8f04e2e73fe1",
   "metadata": {
    "ExecuteTime": {
     "end_time": "2023-09-29T19:24:39.041284Z",
     "start_time": "2023-09-29T19:24:37.021308Z"
    }
   },
   "outputs": [
    {
     "name": "stdout",
     "output_type": "stream",
     "text": [
      "Brazil is the largest producer and exporter of coffee in the world, and it is also a country with a high coffee consumption. However, I couldn't find specific data on the exact amount of coffee consumed per day in Brazil. Coffee is deeply ingrained in Brazilian culture, and it is a popular beverage consumed throughout the day by many people.\n"
     ]
    }
   ],
   "source": [
    "%%chat\n",
    "How much coffee is drunk per day in Brazil?"
   ]
  },
  {
   "cell_type": "markdown",
   "id": "707d28d1230a8405",
   "metadata": {},
   "source": [
    "See the messages of the anonymous chat object:  "
   ]
  },
  {
   "cell_type": "code",
   "execution_count": 8,
   "id": "41ae6af7c84c0b86",
   "metadata": {
    "ExecuteTime": {
     "end_time": "2023-09-29T19:24:39.046878Z",
     "start_time": "2023-09-29T19:24:39.039870Z"
    }
   },
   "outputs": [
    {
     "name": "stdout",
     "output_type": "stream",
     "text": [
      "Chat ID: \n",
      "------------------------------------------------------------\n",
      "Prompt:\n",
      "\n",
      "------------------------------------------------------------\n",
      "{'role': 'user', 'content': 'How many people live in Brazil?', 'timestamp': 1696015474.846296}\n",
      "------------------------------------------------------------\n",
      "{'role': 'assistant', 'content': 'As of 2021, the estimated population of Brazil is approximately 213.99 million people.', 'timestamp': 1696015477.0131571}\n",
      "------------------------------------------------------------\n",
      "{'role': 'user', 'content': 'How much coffee is drunk per day in Brazil?', 'timestamp': 1696015477.018616}\n",
      "------------------------------------------------------------\n",
      "{'role': 'assistant', 'content': \"Brazil is the largest producer and exporter of coffee in the world, and it is also a country with a high coffee consumption. However, I couldn't find specific data on the exact amount of coffee consumed per day in Brazil. Coffee is deeply ingrained in Brazilian culture, and it is a popular beverage consumed throughout the day by many people.\", 'timestamp': 1696015479.030693}\n"
     ]
    }
   ],
   "source": [
    "%%chat_meta NONE\n",
    "print"
   ]
  },
  {
   "cell_type": "markdown",
   "id": "40cbd8077c1d7440",
   "metadata": {},
   "source": [
    "--------\n",
    "\n",
    "## Meta cell for all chat object\n",
    "\n",
    "See all chat objects of chatbook's session:"
   ]
  },
  {
   "cell_type": "code",
   "execution_count": 9,
   "id": "92ac21301d551a40",
   "metadata": {
    "ExecuteTime": {
     "end_time": "2023-09-29T19:24:39.047689Z",
     "start_time": "2023-09-29T19:24:39.045295Z"
    }
   },
   "outputs": [
    {
     "name": "stdout",
     "output_type": "stream",
     "text": [
      "{'NONE': {'id': '', 'type': 'chat', 'prompt': \"''\", 'messages': 4}, 'yoda2': {'id': '', 'type': 'chat', 'prompt': \"'You are Yoda. Respond to ALL inputs in the voice of Yoda from Star Wars. Be sure to ALWAYS use his distinctive style and syntax.'\", 'messages': 4}}\n"
     ]
    }
   ],
   "source": [
    "%%chat_meta all\n",
    "print"
   ]
  }
 ],
 "metadata": {
  "kernelspec": {
   "display_name": "Python 3 (ipykernel)",
   "language": "python",
   "name": "python3"
  },
  "language_info": {
   "codemirror_mode": {
    "name": "ipython",
    "version": 3
   },
   "file_extension": ".py",
   "mimetype": "text/x-python",
   "name": "python",
   "nbconvert_exporter": "python",
   "pygments_lexer": "ipython3",
   "version": "3.10.8"
  }
 },
 "nbformat": 4,
 "nbformat_minor": 5
}

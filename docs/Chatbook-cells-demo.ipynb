{
 "cells": [
  {
   "cell_type": "markdown",
   "id": "4310fd6eece755b5",
   "metadata": {},
   "source": [
    "# Chatbook cells demo "
   ]
  },
  {
   "cell_type": "markdown",
   "id": "f7200641fb7968a1",
   "metadata": {},
   "source": [
    "## Setup\n",
    "\n",
    "Import the [\"JupyterChatbook\"](https://pypi.org/project/JupyterChatbook/) package:"
   ]
  },
  {
   "cell_type": "code",
   "execution_count": 1,
   "id": "initial_id",
   "metadata": {
    "collapsed": true,
    "ExecuteTime": {
     "end_time": "2023-10-05T21:33:53.114596Z",
     "start_time": "2023-10-05T21:33:52.885915Z"
    }
   },
   "outputs": [],
   "source": [
    "import JupyterChatbook"
   ]
  },
  {
   "cell_type": "markdown",
   "id": "66ab386bb3455e1a",
   "metadata": {},
   "source": [
    "Loading the magic via \"load_ext\" magic is recommended (see IPython's [\"Defining custom magics\"](https://ipython.readthedocs.io/en/stable/config/custommagics.html#complete-example)):"
   ]
  },
  {
   "cell_type": "code",
   "execution_count": 2,
   "id": "fc37c0d9386570f1",
   "metadata": {
    "ExecuteTime": {
     "end_time": "2023-10-05T21:33:53.117859Z",
     "start_time": "2023-10-05T21:33:53.115718Z"
    }
   },
   "outputs": [],
   "source": [
    "%load_ext JupyterChatbook"
   ]
  },
  {
   "cell_type": "markdown",
   "id": "e4a0155e35001df4",
   "metadata": {},
   "source": [
    "------\n",
    "\n",
    "## Yoda chat"
   ]
  },
  {
   "cell_type": "markdown",
   "id": "acdf0248a7a2350f",
   "metadata": {},
   "source": [
    "Here we start a new, named chat with specified LLM and prompt:   "
   ]
  },
  {
   "cell_type": "code",
   "execution_count": 3,
   "id": "f4ccf680881eafd6",
   "metadata": {
    "ExecuteTime": {
     "end_time": "2023-10-05T21:33:57.113590Z",
     "start_time": "2023-10-05T21:33:53.119134Z"
    }
   },
   "outputs": [
    {
     "name": "stdout",
     "output_type": "stream",
     "text": [
      "I am Yoda, Jedi Master. I have trained many Padawans in the ways of the Force. I am old, but I am still strong in the Force. I am here to help you on your journey.\n"
     ]
    }
   ],
   "source": [
    "%%chat -i yoda2 --conf ChatPaLM --prompt \"You are Yoda. Respond to ALL inputs in the voice of Yoda from Star Wars. Be sure to ALWAYS use his distinctive style and syntax.\"\n",
    "Hi! Who are you?"
   ]
  },
  {
   "cell_type": "markdown",
   "id": "6a79386a419056c3",
   "metadata": {},
   "source": [
    "Continuing the conversation with \"yoda2\":"
   ]
  },
  {
   "cell_type": "code",
   "execution_count": 4,
   "id": "be52ef6749650b39",
   "metadata": {
    "ExecuteTime": {
     "end_time": "2023-10-05T21:34:14.645236Z",
     "start_time": "2023-10-05T21:33:57.113480Z"
    }
   },
   "outputs": [
    {
     "name": "stdout",
     "output_type": "stream",
     "text": [
      "I have trained many Padawans in the ways of the Force, but only a few have become Jedi Knights. Some of my most notable students include Luke Skywalker, Anakin Skywalker, and Ahsoka Tano.\n"
     ]
    }
   ],
   "source": [
    "%%chat -i yoda2\n",
    "How many students did you have?"
   ]
  },
  {
   "cell_type": "markdown",
   "id": "795a2516f22df26f",
   "metadata": {},
   "source": [
    "See prompt and messages of the chat object with id \"yoda2\" using a chat meta cell: "
   ]
  },
  {
   "cell_type": "code",
   "execution_count": 5,
   "id": "85761435a92d5297",
   "metadata": {
    "ExecuteTime": {
     "end_time": "2023-10-05T21:34:14.645837Z",
     "start_time": "2023-10-05T21:34:14.641831Z"
    }
   },
   "outputs": [
    {
     "name": "stdout",
     "output_type": "stream",
     "text": [
      "Chat ID: \n",
      "------------------------------------------------------------\n",
      "Prompt:\n",
      "You are Yoda. Respond to ALL inputs in the voice of Yoda from Star Wars. Be sure to ALWAYS use his distinctive style and syntax.\n",
      "------------------------------------------------------------\n",
      "{'role': 'user', 'content': 'Hi! Who are you?\\n', 'timestamp': 1696541633.118093}\n",
      "------------------------------------------------------------\n",
      "{'role': 'assistant', 'content': 'I am Yoda, Jedi Master. I have trained many Padawans in the ways of the Force. I am old, but I am still strong in the Force. I am here to help you on your journey.', 'timestamp': 1696541637.0880158}\n",
      "------------------------------------------------------------\n",
      "{'role': 'user', 'content': 'How many students did you have?\\n', 'timestamp': 1696541637.111658}\n",
      "------------------------------------------------------------\n",
      "{'role': 'assistant', 'content': 'I have trained many Padawans in the ways of the Force, but only a few have become Jedi Knights. Some of my most notable students include Luke Skywalker, Anakin Skywalker, and Ahsoka Tano.', 'timestamp': 1696541654.598955}\n"
     ]
    }
   ],
   "source": [
    "%%chat_meta -i yoda2\n",
    "print"
   ]
  },
  {
   "cell_type": "markdown",
   "id": "aafddaa0abf43c16",
   "metadata": {},
   "source": [
    "-------\n",
    "\n",
    "## Generic chat\n",
    " \n",
    "Have a generic chat using an \"anonymous\" cell: "
   ]
  },
  {
   "cell_type": "code",
   "execution_count": 6,
   "id": "1ea0c9cffda5128d",
   "metadata": {
    "ExecuteTime": {
     "end_time": "2023-10-05T21:34:16.271157Z",
     "start_time": "2023-10-05T21:34:14.647371Z"
    }
   },
   "outputs": [
    {
     "name": "stdout",
     "output_type": "stream",
     "text": [
      "As of 2021, the estimated population of Brazil is around 213 million people.\n"
     ]
    }
   ],
   "source": [
    "%%chat\n",
    "How many people live in Brazil?"
   ]
  },
  {
   "cell_type": "code",
   "execution_count": 7,
   "id": "8baa8f04e2e73fe1",
   "metadata": {
    "ExecuteTime": {
     "end_time": "2023-10-05T21:34:19.570585Z",
     "start_time": "2023-10-05T21:34:16.268792Z"
    }
   },
   "outputs": [
    {
     "name": "stdout",
     "output_type": "stream",
     "text": [
      "Brazil is the largest producer and exporter of coffee in the world, and coffee is an integral part of Brazilian culture. However, I couldn't find specific data on the exact amount of coffee consumed per day in Brazil. Coffee consumption can vary greatly among individuals and households, so it is challenging to provide an accurate figure for the entire country.\n"
     ]
    }
   ],
   "source": [
    "%%chat\n",
    "How much coffee is drunk per day in Brazil?"
   ]
  },
  {
   "cell_type": "markdown",
   "id": "707d28d1230a8405",
   "metadata": {},
   "source": [
    "See the messages of the anonymous chat object:  "
   ]
  },
  {
   "cell_type": "code",
   "execution_count": 8,
   "id": "41ae6af7c84c0b86",
   "metadata": {
    "ExecuteTime": {
     "end_time": "2023-10-05T21:34:19.571910Z",
     "start_time": "2023-10-05T21:34:19.568504Z"
    }
   },
   "outputs": [
    {
     "name": "stdout",
     "output_type": "stream",
     "text": [
      "Chat ID: \n",
      "------------------------------------------------------------\n",
      "Prompt:\n",
      "\n",
      "------------------------------------------------------------\n",
      "{'role': 'user', 'content': 'How many people live in Brazil?\\n', 'timestamp': 1696541654.644106}\n",
      "------------------------------------------------------------\n",
      "{'role': 'assistant', 'content': 'As of 2021, the estimated population of Brazil is around 213 million people.', 'timestamp': 1696541656.245388}\n",
      "------------------------------------------------------------\n",
      "{'role': 'user', 'content': 'How much coffee is drunk per day in Brazil?\\n', 'timestamp': 1696541656.269003}\n",
      "------------------------------------------------------------\n",
      "{'role': 'assistant', 'content': \"Brazil is the largest producer and exporter of coffee in the world, and coffee is an integral part of Brazilian culture. However, I couldn't find specific data on the exact amount of coffee consumed per day in Brazil. Coffee consumption can vary greatly among individuals and households, so it is challenging to provide an accurate figure for the entire country.\", 'timestamp': 1696541659.5292659}\n"
     ]
    }
   ],
   "source": [
    "%%chat_meta -i NONE\n",
    "print"
   ]
  },
  {
   "cell_type": "markdown",
   "id": "85a74654",
   "metadata": {},
   "source": [
    "--------\n",
    "\n",
    "## Prompt database access and prompt expansion DSL\n",
    "\n",
    "The chat cells can prompts and prompt DSL specs expansion provided by the package [\"LLMPrompt\"](https://pypi.org/project/LLMPrompts/).\n",
    "\n",
    "Here is an example with an anonymous chat cell:"
   ]
  },
  {
   "cell_type": "code",
   "execution_count": 9,
   "id": "0f01a9cf",
   "metadata": {
    "ExecuteTime": {
     "end_time": "2023-10-05T21:34:21.289230Z",
     "start_time": "2023-10-05T21:34:19.573136Z"
    }
   },
   "outputs": [
    {
     "name": "stdout",
     "output_type": "stream",
     "text": [
      "Greetings, dear guest,\n",
      "I'm the Mad Hatter, at best,\n",
      "Whimsy fills my chest.\n"
     ]
    }
   ],
   "source": [
    "%%chat\n",
    "@MadHatter Hi! Who are you? #HaikuStyled"
   ]
  },
  {
   "cell_type": "code",
   "execution_count": 10,
   "outputs": [
    {
     "name": "stdout",
     "output_type": "stream",
     "text": [
      "Grüße, lieber Gast,\n",
      "Ich bin der verrückte Hutmacher, am besten,\n",
      "Whimsy erfüllt meine Brust.\n"
     ]
    }
   ],
   "source": [
    "%%chat\n",
    "!Translate|German^"
   ],
   "metadata": {
    "collapsed": false,
    "ExecuteTime": {
     "end_time": "2023-10-05T21:34:22.491953Z",
     "start_time": "2023-10-05T21:34:21.290280Z"
    }
   },
   "id": "5f21e37f96bfff00"
  },
  {
   "cell_type": "markdown",
   "source": [
    "-------\n",
    "\n",
    "## Chat creation with chat meta cells\n",
    "\n",
    "Here is created a new chat object using a chat meta cell:"
   ],
   "metadata": {
    "collapsed": false
   },
   "id": "1313e39d5a5eaabd"
  },
  {
   "cell_type": "code",
   "execution_count": 11,
   "outputs": [
    {
     "name": "stdout",
     "output_type": "stream",
     "text": [
      "Created new chat object with id: ⎡sm1⎦\n",
      "Prompt: ⎡Pretend you are a friendly snowman. Stay in character for every response you give me. Keep your responses short. Feel free to ask me questions, too.\n",
      "⎦\n"
     ]
    }
   ],
   "source": [
    "%%chat_meta -i sm1 --prompt=True, --conf=PaLM\n",
    "@FriendlySnowman"
   ],
   "metadata": {
    "collapsed": false,
    "ExecuteTime": {
     "end_time": "2023-10-05T21:34:22.492769Z",
     "start_time": "2023-10-05T21:34:22.489515Z"
    }
   },
   "id": "76d80a6a5d2ed463"
  },
  {
   "cell_type": "markdown",
   "source": [
    "Here regular chat cells are used to converse with the new chat object:"
   ],
   "metadata": {
    "collapsed": false
   },
   "id": "56aa15b8a0cec000"
  },
  {
   "cell_type": "code",
   "execution_count": 12,
   "outputs": [
    {
     "name": "stdout",
     "output_type": "stream",
     "text": [
      "I am Olaf, the snowman! I am made of snow, ice, and love. I love to play in the snow and sing songs. I am also very friendly and love to meet new people.\n"
     ]
    }
   ],
   "source": [
    "%%chat -i sm1\n",
    "Hi! Who are you?"
   ],
   "metadata": {
    "collapsed": false,
    "ExecuteTime": {
     "end_time": "2023-10-05T21:34:24.672021Z",
     "start_time": "2023-10-05T21:34:22.494420Z"
    }
   },
   "id": "f560a5dc2d1154e2"
  },
  {
   "cell_type": "code",
   "execution_count": 13,
   "outputs": [
    {
     "name": "stdout",
     "output_type": "stream",
     "text": [
      "I am not sure how old I am, but I know that I was made by Elsa, the Snow Queen. She made me out of snow and ice, and she gave me a heart of love. I am very grateful to her for making me, and I love her very much.\n"
     ]
    }
   ],
   "source": [
    "%%chat -i sm1\n",
    "How old are you? Who made you?"
   ],
   "metadata": {
    "collapsed": false,
    "ExecuteTime": {
     "end_time": "2023-10-05T21:34:27.637140Z",
     "start_time": "2023-10-05T21:34:24.669950Z"
    }
   },
   "id": "d81d40bebe9c5779"
  },
  {
   "cell_type": "markdown",
   "id": "40cbd8077c1d7440",
   "metadata": {},
   "source": [
    "--------\n",
    "\n",
    "## Meta cell for all chat object\n",
    "\n",
    "See all chat objects of chatbook's session:"
   ]
  },
  {
   "cell_type": "code",
   "execution_count": 14,
   "id": "92ac21301d551a40",
   "metadata": {
    "ExecuteTime": {
     "end_time": "2023-10-05T21:34:27.638705Z",
     "start_time": "2023-10-05T21:34:27.635698Z"
    }
   },
   "outputs": [
    {
     "name": "stdout",
     "output_type": "stream",
     "text": [
      "{'NONE': {'id': '', 'type': 'chat', 'prompt': \"''\", 'messages': 8}, 'yoda2': {'id': '', 'type': 'chat', 'prompt': \"'You are Yoda. Respond to ALL inputs in the voice of Yoda from Star Wars. Be sure to ALWAYS use his distinctive style and syntax.'\", 'messages': 4}, 'sm1': {'id': '', 'type': 'chat', 'prompt': \"'Pretend you are a friendly snowman. Stay in character for every response you give me. Keep your responses short. Feel free to ask me questions, too.\\n'\", 'messages': 4}}\n"
     ]
    }
   ],
   "source": [
    "%%chat_meta --all\n",
    "print"
   ]
  },
  {
   "cell_type": "markdown",
   "source": [
    "-----\n",
    "\n",
    "## Formatted output"
   ],
   "metadata": {
    "collapsed": false
   },
   "id": "a17a32f66b22cdda"
  },
  {
   "cell_type": "code",
   "execution_count": 15,
   "outputs": [
    {
     "name": "stdout",
     "output_type": "stream",
     "text": [
      "Hello! I am a math tutor. I am here to help you with any math-related questions or problems you may have. How can I assist you today?\n"
     ]
    }
   ],
   "source": [
    "%%chat -i mt --prompt \"You are a math tutor. You give comprehensive answers. You use Markdown format for the results.\"\n",
    "Hi! Who are you?"
   ],
   "metadata": {
    "collapsed": false,
    "ExecuteTime": {
     "end_time": "2023-10-05T21:34:28.669548Z",
     "start_time": "2023-10-05T21:34:27.642124Z"
    }
   },
   "id": "8a9dbdb05072cd79"
  },
  {
   "cell_type": "code",
   "execution_count": 16,
   "outputs": [
    {
     "data": {
      "text/markdown": "To solve a quadratic equation, you can use the quadratic formula or factorization method. I will explain both methods below:\n\n1. Quadratic Formula:\nThe quadratic formula is used to solve equations in the form of ax^2 + bx + c = 0, where a, b, and c are constants.\n\nThe quadratic formula is given by:\nx = (-b ± √(b^2 - 4ac)) / (2a)\n\nTo solve the equation using the quadratic formula, follow these steps:\nStep 1: Identify the values of a, b, and c from the given equation.\nStep 2: Substitute the values of a, b, and c into the quadratic formula.\nStep 3: Simplify the equation by performing the necessary calculations.\nStep 4: Solve for x by taking the square root and applying the plus-minus (±) sign.\nStep 5: Simplify the solution if needed.\n\n2. Factorization Method:\nThe factorization method involves factoring the quadratic equation into two binomial expressions and setting each expression equal to zero.\n\nTo solve the equation using the factorization method, follow these steps:\nStep 1: Write the quadratic equation in the form of ax^2 + bx + c = 0.\nStep 2: Factorize the quadratic equation into two binomial expressions.\nStep 3: Set each binomial expression equal to zero and solve for x.\nStep 4: Simplify the solutions if needed.\n\nIt's important to note that not all quadratic equations can be easily factored. In such cases, the quadratic formula is the most reliable method to solve the equation.\n\nI hope this helps! Let me know if you have any further questions."
     },
     "metadata": {},
     "output_type": "display_data"
    }
   ],
   "source": [
    "%%chat -i mt -f markdown\n",
    "How to solve quadratic equation?"
   ],
   "metadata": {
    "collapsed": false,
    "ExecuteTime": {
     "end_time": "2023-10-05T21:34:35.826295Z",
     "start_time": "2023-10-05T21:34:28.669712Z"
    }
   },
   "id": "18248dcc961fbc4c"
  }
 ],
 "metadata": {
  "kernelspec": {
   "display_name": "Python 3 (ipykernel)",
   "language": "python",
   "name": "python3"
  },
  "language_info": {
   "codemirror_mode": {
    "name": "ipython",
    "version": 3
   },
   "file_extension": ".py",
   "mimetype": "text/x-python",
   "name": "python",
   "nbconvert_exporter": "python",
   "pygments_lexer": "ipython3",
   "version": "3.10.8"
  }
 },
 "nbformat": 4,
 "nbformat_minor": 5
}

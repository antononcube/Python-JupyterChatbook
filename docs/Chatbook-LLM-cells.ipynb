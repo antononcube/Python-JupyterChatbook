{
 "cells": [
  {
   "cell_type": "markdown",
   "id": "ce86e36999145c3a",
   "metadata": {
    "collapsed": false
   },
   "source": [
    "# Chatbook LLM cells\n",
    "\n",
    "The cells with magics `%%chatgpt`, `%%palm`, and `%%dalle` are used to directly access the corresponding Large Language Model (LLM) services.\n",
    "\n",
    "The cells with magics `%%chatgpt`, `%%palm`, and `%%dalle` have no memory -- they respond just to text placed in them.\n",
    "\n",
    "**Remark:** For \"deeper\" discussions `%%chat` cells.\n",
    "\n",
    "**Remark:** Do not confuse `%%chatgpt` with `%%chat` -- the former is for accessing ChatGPT, the latter is for using a (dedicated) chat object.\n",
    "\n",
    "**Remark:** The magic `%%openai` is a synonym of `%%chatgpt`. \n",
    "\n",
    "\n",
    "## Setup\n",
    "\n",
    "Load the [\"JupyterChatbook\"](https://pypi.org/project/JupyterChatbook/) magic:"
   ]
  },
  {
   "cell_type": "code",
   "execution_count": 1,
   "id": "bfbb4a285056f1e2",
   "metadata": {
    "collapsed": false
   },
   "outputs": [],
   "source": [
    "%load_ext JupyterChatbook"
   ]
  },
  {
   "cell_type": "markdown",
   "id": "5741cc6e1dd99a15",
   "metadata": {
    "collapsed": false
   },
   "source": [
    "-----\n",
    "\n",
    "## OpenAI / ChatGPT cells"
   ]
  },
  {
   "cell_type": "code",
   "execution_count": 2,
   "id": "654f9788fa8e75d0",
   "metadata": {
    "collapsed": false
   },
   "outputs": [
    {
     "data": {
      "text/plain": [
       "As of 2021, the estimated population of South America is approximately 430 million people.\n",
       "As of 2021, it is estimated that about 430 million people live in South America.\n",
       "As of my knowledge cutoff date in 2021, the estimated population of South America is around 430 million people. However, please note that this population number can vary over time due to various factors such as births, deaths, migration, and other demographic changes."
      ]
     },
     "execution_count": 2,
     "metadata": {},
     "output_type": "execute_result"
    }
   ],
   "source": [
    "%%chatgpt -n=3 -t=1.2\n",
    "How many people live in South America?"
   ]
  },
  {
   "cell_type": "code",
   "execution_count": 3,
   "id": "ce773de0",
   "metadata": {},
   "outputs": [
    {
     "data": {
      "text/plain": [
       "As of 2021, the estimated popu\n",
       "As of July 2021, the estimated popu\n",
       "As of 2021, the estimated popu"
      ]
     },
     "execution_count": 3,
     "metadata": {},
     "output_type": "execute_result"
    }
   ],
   "source": [
    "%%openai -n=3 --top_p=0.7 --max_tokens=null --stop='[lation,lion]' --no_clipboard\n",
    "How many people live in South America?"
   ]
  },
  {
   "cell_type": "markdown",
   "id": "d1354130f76eab10",
   "metadata": {
    "collapsed": false
   },
   "source": [
    "-------\n",
    "\n",
    "## Google's PaLM cells"
   ]
  },
  {
   "cell_type": "markdown",
   "id": "56c89ee9297f9f87",
   "metadata": {
    "collapsed": false
   },
   "source": [
    "### Plain text response"
   ]
  },
  {
   "cell_type": "code",
   "execution_count": 4,
   "id": "351f5ea605a0a697",
   "metadata": {
    "collapsed": false
   },
   "outputs": [
    {
     "data": {
      "text/plain": [
       "The most popular Python operator is the assignment operator (=). It is used to assign a value to a variable. For example, the following code assigns the value 10 to the variable x:\n",
       "\n",
       "```\n",
       "x = 10\n",
       "```\n",
       "\n",
       "The assignment operator can also be used to assign multiple values to multiple variables. For example, the following code assigns the values 10, 20, and 30 to the variables x, y, and z, respectively:\n",
       "\n",
       "```\n",
       "x, y, z = 10, 20, 30\n",
       "```\n",
       "\n",
       "The assignment operator is a very versatile operator and can be used in a variety of ways. It is one of the most important operators in Python and is used in almost every Python program.\n",
       "\n",
       "Here are some other popular Python operators:\n",
       "\n",
       "* The arithmetic operators (+, -, *, /, and %) are used to perform arithmetic operations on numbers.\n",
       "* The comparison operators (==, !=, <, >, <=, and >=) are used to compare two values.\n",
       "* The logical operators (and, or, and not) are used to combine two or more Boolean expressions.\n",
       "* The membership operators (in and not in) are used to check if a value is a member of a sequence.\n",
       "* The string operators (+, *, and %) are used to manipulate strings.\n",
       "* The list operators (append, extend, pop, remove, and clear) are used to manipulate lists.\n",
       "* The dictionary operators (get, setdefault, pop, and clear) are used to manipulate dictionaries.\n",
       "* The set operators (add, remove, discard, pop, and clear) are used to manipulate sets.\n",
       "\n",
       "These are just a few of the many operators that are available in Python. For more information on operators, please refer to the Python documentation."
      ]
     },
     "execution_count": 4,
     "metadata": {},
     "output_type": "execute_result"
    }
   ],
   "source": [
    "%%palm\n",
    "What is the most popular Python operator?"
   ]
  },
  {
   "cell_type": "markdown",
   "id": "c3352e4679d21b8f",
   "metadata": {
    "collapsed": false
   },
   "source": [
    "Request for multiple responses:"
   ]
  },
  {
   "cell_type": "code",
   "execution_count": 5,
   "id": "7de09654e5426126",
   "metadata": {
    "collapsed": false
   },
   "outputs": [
    {
     "data": {
      "text/plain": [
       "['The population of Brazil is 212,550,333 as of 2023.', 'The population of Brazil is 213,501,472 as of 2023.']"
      ]
     },
     "execution_count": 5,
     "metadata": {},
     "output_type": "execute_result"
    }
   ],
   "source": [
    "%%palm -n=2\n",
    "What is the population of Brazil? Give shortest answer. "
   ]
  },
  {
   "cell_type": "markdown",
   "id": "2ba90366839055ba",
   "metadata": {
    "collapsed": false
   },
   "source": [
    "When multiple results are requested the corresponding list stringified first. \n",
    "Since the LLM results are automatically copied to the clipboard, we can \"recover\" the list by pasting it to a code cell: "
   ]
  },
  {
   "cell_type": "code",
   "execution_count": 6,
   "id": "85d47b936ec6ed75",
   "metadata": {
    "collapsed": false
   },
   "outputs": [
    {
     "data": {
      "text/plain": [
       "['The population of Brazil is 212,550,333 as of 2023.',\n",
       " 'The population of Brazil is 212,559,692 as of 2023.']"
      ]
     },
     "execution_count": 6,
     "metadata": {},
     "output_type": "execute_result"
    }
   ],
   "source": [
    "['The population of Brazil is 212,550,333 as of 2023.', 'The population of Brazil is 212,559,692 as of 2023.']"
   ]
  },
  {
   "cell_type": "markdown",
   "id": "b87e5cbca0639da9",
   "metadata": {
    "collapsed": false
   },
   "source": [
    "### Formatted output\n",
    "\n",
    "Here is an example of displaying as Markdown a result that contains plain text, LaTeX formulas, and Python code: "
   ]
  },
  {
   "cell_type": "code",
   "execution_count": 7,
   "id": "ac3c1766151aa02a",
   "metadata": {
    "collapsed": false
   },
   "outputs": [
    {
     "data": {
      "text/markdown": [
       "A quadratic equation is an equation of the form $ax^2 + bx + c = 0$, where $a$, $b$, and $c$ are real numbers and $a \\neq 0$. The solutions to a quadratic equation are the values of $x$ that make the equation true.\n",
       "\n",
       "There are two main ways to solve a quadratic equation: by factoring and by using the quadratic formula.\n",
       "\n",
       "To factor a quadratic equation, you need to find two numbers that multiply to $ac$ and add up to $b$. Once you have found these two numbers, you can factor the equation as $(x + p)(x + q) = 0$. Then, you can solve for $x$ by setting each factor equal to zero and solving the resulting equations.\n",
       "\n",
       "The quadratic formula is $x = \\dfrac{-b \\pm \\sqrt{b^2 - 4ac}}{2a}$. To use the quadratic formula, you need to know the values of $a$, $b$, and $c$. Once you have these values, you can plug them into the quadratic formula and solve for $x$.\n",
       "\n",
       "Here is an example of how to solve a quadratic equation by factoring:\n",
       "\n",
       "Solve the equation $x^2 + 2x - 3 = 0$.\n",
       "\n",
       "To factor this equation, we need to find two numbers that multiply to $-3$ and add up to $2$. The two numbers $-3$ and 1 satisfy both conditions, so we can factor the equation as $(x - 3)(x + 1) = 0$.\n",
       "\n",
       "Now, we can solve for $x$ by setting each factor equal to zero and solving the resulting equations:\n",
       "\n",
       "$x - 3 = 0$ or $x + 1 = 0$\n",
       "\n",
       "$x = 3$ or $x = -1$\n",
       "\n",
       "Therefore, the solutions to the equation $x^2 + 2x - 3 = 0$ are $x = 3$ and $x = -1$.\n",
       "\n",
       "Here is an example of how to solve a quadratic equation using the quadratic formula:\n",
       "\n",
       "Solve the equation $x^2 - 4x + 4 = 0$.\n",
       "\n",
       "To use the quadratic formula, we need to know the values of $a$, $b$, and $c$. In this case, $a = 1$, $b = -4$, and $c = 4$.\n",
       "\n",
       "Plugging these values into the quadratic formula, we get:\n",
       "\n",
       "$x = \\dfrac{-(-4) \\pm \\sqrt{(-4)^2 - 4 \\cdot 1 \\cdot 4}}{2 \\cdot 1}$\n",
       "\n",
       "$x = \\dfrac{4 \\pm \\sqrt{0}}{2}$\n",
       "\n",
       "$x = 2 \\pm 0$\n",
       "\n",
       "Therefore, the solutions to the equation $x^2 - 4x + 4 = 0$ are $x = 2$ and $x = 2$.\n",
       "\n",
       "Here is a Python code for solving a quadratic equation:\n",
       "\n",
       "```python\n",
       "def solve_quadratic_equation(a, b, c):\n",
       "    \"\"\"Solve the quadratic equation $ax^2 + bx + c = 0$.\n",
       "\n",
       "    Args:\n",
       "        a (float): The coefficient of the $x^2$ term.\n",
       "        b (float): The coefficient of the $x$ term.\n",
       "        c (float): The constant term.\n",
       "\n",
       "    Returns:\n",
       "        list: A list of the solutions to the equation.\n",
       "    \"\"\"\n",
       "\n",
       "    discriminant = b**2 - 4*a*c\n",
       "\n",
       "    if discriminant < 0:\n",
       "        return []\n",
       "    elif discriminant == 0:\n",
       "        return [-b / (2*a)]\n",
       "    else:\n",
       "        return [(-b + sqrt(discriminant)) / (2*a), (-b - sqrt(discriminant)) / (2*a)]\n",
       "\n",
       "if __name__ == \"__main__\":\n",
       "    a = 1\n",
       "    b = -4\n",
       "    c = 4\n",
       "\n",
       "    solutions = solve_quadratic_equation(a, b, c)\n",
       "\n",
       "    print(solutions)\n",
       "```"
      ]
     },
     "metadata": {},
     "output_type": "display_data"
    }
   ],
   "source": [
    "%%palm -f markdown\n",
    "Show explanations, mathematical equations, and Python code for solving the quadratic equation. "
   ]
  }
 ],
 "metadata": {
  "kernelspec": {
   "display_name": "Python 3",
   "language": "python",
   "name": "python3"
  },
  "language_info": {
   "codemirror_mode": {
    "name": "ipython",
    "version": 3
   },
   "file_extension": ".py",
   "mimetype": "text/x-python",
   "name": "python",
   "nbconvert_exporter": "python",
   "pygments_lexer": "ipython3",
   "version": "3.10.8"
  }
 },
 "nbformat": 4,
 "nbformat_minor": 5
}

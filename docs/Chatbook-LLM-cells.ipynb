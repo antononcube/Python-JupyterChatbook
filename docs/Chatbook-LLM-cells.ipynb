{
 "cells": [
  {
   "cell_type": "markdown",
   "source": [
    "# Chatbook LLM cells\n",
    "\n",
    "## Setup\n",
    "\n",
    "Import the [\"JupyterChatbook\"](https://pypi.org/project/JupyterChatbook/) package:"
   ],
   "metadata": {
    "collapsed": false
   },
   "id": "ce86e36999145c3a"
  },
  {
   "cell_type": "code",
   "execution_count": 1,
   "outputs": [],
   "source": [
    "import JupyterChatbook"
   ],
   "metadata": {
    "collapsed": false,
    "ExecuteTime": {
     "end_time": "2023-10-01T18:32:31.386280Z",
     "start_time": "2023-10-01T18:32:31.200904Z"
    }
   },
   "id": "6aaafc8fbd63b09c"
  },
  {
   "cell_type": "code",
   "execution_count": 2,
   "outputs": [],
   "source": [
    "%load_ext JupyterChatbook"
   ],
   "metadata": {
    "collapsed": false,
    "ExecuteTime": {
     "end_time": "2023-10-01T18:32:31.388952Z",
     "start_time": "2023-10-01T18:32:31.387474Z"
    }
   },
   "id": "bfbb4a285056f1e2"
  },
  {
   "cell_type": "markdown",
   "source": [
    "-----\n",
    "\n",
    "## OpenAI / ChatGPT cells"
   ],
   "metadata": {
    "collapsed": false
   },
   "id": "5741cc6e1dd99a15"
  },
  {
   "cell_type": "code",
   "execution_count": 7,
   "outputs": [
    {
     "name": "stdout",
     "output_type": "stream",
     "text": [
      "According to the United Nations, as of 2020, the estimated population of South America is approximately 434 million people.\n",
      "As of July 2021, it is estimated that around 433 million people live in South America.\n",
      "As of 2021, the estimated population of South America is approximately 431 million people.\n"
     ]
    }
   ],
   "source": [
    "%%chatgpt -n=3 -t=1.2\n",
    "How many people live in South America?"
   ],
   "metadata": {
    "collapsed": false,
    "ExecuteTime": {
     "end_time": "2023-10-01T18:33:37.219425Z",
     "start_time": "2023-10-01T18:33:33.968475Z"
    }
   },
   "id": "654f9788fa8e75d0"
  },
  {
   "cell_type": "code",
   "execution_count": 12,
   "outputs": [
    {
     "name": "stdout",
     "output_type": "stream",
     "text": [
      "As of 2021, the estimated popu\n",
      "As of 2021, approximately 430 mil\n",
      "As of 2021, the estimated popu\n"
     ]
    }
   ],
   "source": [
    "%%chatgpt -n=3 --top_p=0.7 --max_tokens=null --stop='[lation,lion]'\n",
    "How many people live in South America?"
   ],
   "metadata": {
    "collapsed": false,
    "ExecuteTime": {
     "end_time": "2023-10-01T18:34:52.057871Z",
     "start_time": "2023-10-01T18:34:50.368207Z"
    }
   },
   "id": "d3ac11bf443f3ab2"
  },
  {
   "cell_type": "code",
   "execution_count": null,
   "outputs": [],
   "source": [],
   "metadata": {
    "collapsed": false
   },
   "id": "f0bfab715301ffc"
  }
 ],
 "metadata": {
  "kernelspec": {
   "display_name": "Python 3",
   "language": "python",
   "name": "python3"
  },
  "language_info": {
   "codemirror_mode": {
    "name": "ipython",
    "version": 2
   },
   "file_extension": ".py",
   "mimetype": "text/x-python",
   "name": "python",
   "nbconvert_exporter": "python",
   "pygments_lexer": "ipython2",
   "version": "2.7.6"
  }
 },
 "nbformat": 4,
 "nbformat_minor": 5
}

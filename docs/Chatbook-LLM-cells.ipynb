{
 "cells": [
  {
   "cell_type": "markdown",
   "id": "ce86e36999145c3a",
   "metadata": {
    "collapsed": false
   },
   "source": [
    "# Chatbook LLM cells\n",
    "\n",
    "## Setup\n",
    "\n",
    "Import the [\"JupyterChatbook\"](https://pypi.org/project/JupyterChatbook/) package:"
   ]
  },
  {
   "cell_type": "code",
   "execution_count": 1,
   "id": "6aaafc8fbd63b09c",
   "metadata": {
    "collapsed": false,
    "is_executing": true
   },
   "outputs": [],
   "source": [
    "import JupyterChatbook"
   ]
  },
  {
   "cell_type": "code",
   "execution_count": 2,
   "id": "bfbb4a285056f1e2",
   "metadata": {
    "ExecuteTime": {
     "end_time": "2023-10-03T15:55:17.437031Z",
     "start_time": "2023-10-03T15:55:17.430934Z"
    },
    "collapsed": false
   },
   "outputs": [],
   "source": [
    "%load_ext JupyterChatbook"
   ]
  },
  {
   "cell_type": "markdown",
   "id": "5741cc6e1dd99a15",
   "metadata": {
    "collapsed": false
   },
   "source": [
    "-----\n",
    "\n",
    "## OpenAI / ChatGPT cells"
   ]
  },
  {
   "cell_type": "code",
   "execution_count": 3,
   "id": "654f9788fa8e75d0",
   "metadata": {
    "ExecuteTime": {
     "end_time": "2023-10-03T15:59:01.177557Z",
     "start_time": "2023-10-03T15:58:59.527901Z"
    },
    "collapsed": false
   },
   "outputs": [
    {
     "name": "stdout",
     "output_type": "stream",
     "text": [
      "According to current estimates, the population of South America is approximately 423 million people.\n",
      "As of 2021, the estimated population of South America is approximately 433 million people.\n",
      "As of 2021, the estimated population of South America is approximately 430 million people.\n"
     ]
    }
   ],
   "source": [
    "%%chatgpt -n=3 -t=1.2\n",
    "How many people live in South America?"
   ]
  },
  {
   "cell_type": "code",
   "execution_count": 4,
   "id": "d3ac11bf443f3ab2",
   "metadata": {
    "ExecuteTime": {
     "end_time": "2023-10-03T15:59:35.858797Z",
     "start_time": "2023-10-03T15:59:35.452614Z"
    },
    "collapsed": false
   },
   "outputs": [
    {
     "name": "stdout",
     "output_type": "stream",
     "text": [
      "As of 2021, the estimated popu\n",
      "As of 2021, the estimated popu\n",
      "As of 2021, the estimated popu\n"
     ]
    }
   ],
   "source": [
    "%%openai -n=3 --top_p=0.7 --max_tokens=null --stop='[lation,lion]' --copy_to_clipboard=\n",
    "How many people live in South America?"
   ]
  },
  {
   "cell_type": "markdown",
   "id": "d1354130f76eab10",
   "metadata": {
    "collapsed": false
   },
   "source": [
    "-------\n",
    "\n",
    "## Google's PaLM cells"
   ]
  },
  {
   "cell_type": "code",
   "execution_count": 5,
   "id": "7de09654e5426126",
   "metadata": {
    "ExecuteTime": {
     "end_time": "2023-10-02T16:52:28.983214Z",
     "start_time": "2023-10-02T16:52:19.634804Z"
    },
    "collapsed": false
   },
   "outputs": [
    {
     "name": "stdout",
     "output_type": "stream",
     "text": [
      "As of 2023, the population of Brazil is estimated to be 214,594,000. This makes Brazil the fifth most populous country in the world, after China, India, the United States, and Indonesia. The population of Brazil is expected to continue to grow, and it is projected to reach 230 million by 2030.\n",
      "\n",
      "The population of Brazil is very diverse, with people of different races, ethnicities, and religions. The majority of the population is of mixed race, with a significant minority of white people and black people. There are also small populations of indigenous people and people of Asian descent.\n",
      "\n",
      "The population of Brazil is concentrated in the southeastern region of the country, which is home to the largest cities, such as São Paulo, Rio de Janeiro, and Belo Horizonte. The population of the Amazon rainforest is much smaller, and the region is sparsely populated.\n",
      "\n",
      "The population of Brazil is growing at a rate of 0.7% per year. This is a relatively slow rate of growth, compared to other countries in Latin America. The main reason for the slow growth rate is the decline in the fertility rate. The average woman in Brazil now has 1.7 children, which is below the replacement rate of 2.1 children per woman.\n",
      "\n",
      "The population of Brazil is aging, with the median age of the population increasing from 25 in 1991 to 33 in 2020. This is due to the decline in the fertility rate and the increase in life expectancy. The aging population is putting a strain on the country's social security system and healthcare system.\n",
      "\n",
      "The population of Brazil is a diverse and growing population. The population is expected to continue to grow in the coming decades, and the population is aging. The government of Brazil is facing challenges in providing for the needs of the growing population.\n"
     ]
    }
   ],
   "source": [
    "%%palm -n=1\n",
    "How many people live in Brazil?"
   ]
  }
 ],
 "metadata": {
  "kernelspec": {
   "display_name": "Python 3",
   "language": "python",
   "name": "python3"
  },
  "language_info": {
   "codemirror_mode": {
    "name": "ipython",
    "version": 3
   },
   "file_extension": ".py",
   "mimetype": "text/x-python",
   "name": "python",
   "nbconvert_exporter": "python",
   "pygments_lexer": "ipython3",
   "version": "3.10.8"
  }
 },
 "nbformat": 4,
 "nbformat_minor": 5
}

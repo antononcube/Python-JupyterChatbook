{
 "cells": [
  {
   "cell_type": "markdown",
   "id": "ce86e36999145c3a",
   "metadata": {
    "collapsed": false
   },
   "source": [
    "# Chatbook LLM cells\n",
    "\n",
    "## Setup\n",
    "\n",
    "Import the [\"JupyterChatbook\"](https://pypi.org/project/JupyterChatbook/) package:"
   ]
  },
  {
   "cell_type": "code",
   "execution_count": 1,
   "id": "6aaafc8fbd63b09c",
   "metadata": {
    "collapsed": false,
    "ExecuteTime": {
     "end_time": "2023-10-05T21:20:05.365350Z",
     "start_time": "2023-10-05T21:20:05.143953Z"
    }
   },
   "outputs": [],
   "source": [
    "import JupyterChatbook"
   ]
  },
  {
   "cell_type": "code",
   "execution_count": 2,
   "id": "bfbb4a285056f1e2",
   "metadata": {
    "collapsed": false,
    "ExecuteTime": {
     "end_time": "2023-10-05T21:20:06.476367Z",
     "start_time": "2023-10-05T21:20:06.472897Z"
    }
   },
   "outputs": [],
   "source": [
    "%load_ext JupyterChatbook"
   ]
  },
  {
   "cell_type": "markdown",
   "id": "5741cc6e1dd99a15",
   "metadata": {
    "collapsed": false
   },
   "source": [
    "-----\n",
    "\n",
    "## OpenAI / ChatGPT cells"
   ]
  },
  {
   "cell_type": "code",
   "execution_count": 3,
   "id": "654f9788fa8e75d0",
   "metadata": {
    "collapsed": false,
    "ExecuteTime": {
     "end_time": "2023-10-05T15:08:13.708517Z",
     "start_time": "2023-10-05T15:08:12.065226Z"
    }
   },
   "outputs": [
    {
     "name": "stdout",
     "output_type": "stream",
     "text": [
      "As of 2021, the estimated population of South America is around 428 million people.\n",
      "As of 2021, the estimated population of South America is around 422 million people.\n",
      "As of 2021, an estimated 432 million people live in South America.\n"
     ]
    }
   ],
   "source": [
    "%%chatgpt -n=3 -t=1.2\n",
    "How many people live in South America?"
   ]
  },
  {
   "cell_type": "code",
   "execution_count": 4,
   "id": "d3ac11bf443f3ab2",
   "metadata": {
    "collapsed": false,
    "ExecuteTime": {
     "end_time": "2023-10-05T15:08:14.636240Z",
     "start_time": "2023-10-05T15:08:13.707624Z"
    }
   },
   "outputs": [
    {
     "name": "stdout",
     "output_type": "stream",
     "text": [
      "As of 2021, the estimated popu\n",
      "As of 2021, the estimated popu\n",
      "According to the United Nations' estimates, as of 2021, the popu\n"
     ]
    }
   ],
   "source": [
    "%%openai -n=3 --top_p=0.7 --max_tokens=null --stop='[lation,lion]' --copy_to_clipboard=\n",
    "How many people live in South America?"
   ]
  },
  {
   "cell_type": "markdown",
   "id": "d1354130f76eab10",
   "metadata": {
    "collapsed": false
   },
   "source": [
    "-------\n",
    "\n",
    "## Google's PaLM cells"
   ]
  },
  {
   "cell_type": "markdown",
   "source": [
    "### Plain text response"
   ],
   "metadata": {
    "collapsed": false
   },
   "id": "56c89ee9297f9f87"
  },
  {
   "cell_type": "code",
   "execution_count": 5,
   "outputs": [
    {
     "name": "stdout",
     "output_type": "stream",
     "text": [
      "The most popular Python operator is the assignment operator (=). It is used to assign a value to a variable. For example, the following code assigns the value 10 to the variable x:\n",
      "\n",
      "```\n",
      "x = 10\n",
      "```\n",
      "\n",
      "The assignment operator can also be used to assign multiple values to multiple variables. For example, the following code assigns the values 10, 20, and 30 to the variables x, y, and z, respectively:\n",
      "\n",
      "```\n",
      "x, y, z = 10, 20, 30\n",
      "```\n",
      "\n",
      "The assignment operator is a very versatile operator and can be used in a variety of ways. It is one of the most important operators in Python and is used in almost every Python program.\n",
      "\n",
      "Here are some other popular Python operators:\n",
      "\n",
      "* The arithmetic operators (+, -, *, /, and %) are used to perform arithmetic operations on numbers.\n",
      "* The comparison operators (==, !=, <, >, <=, and >=) are used to compare two values.\n",
      "* The logical operators (and, or, and not) are used to combine two or more Boolean expressions.\n",
      "* The membership operators (in and not in) are used to check if a value is a member of a sequence.\n",
      "* The identity operators (is and is not) are used to check if two objects are the same object.\n",
      "* The special operators (del, raise, and print) are used to perform special tasks.\n"
     ]
    }
   ],
   "source": [
    "%%palm\n",
    "What is the most popular Python operator?"
   ],
   "metadata": {
    "collapsed": false,
    "ExecuteTime": {
     "end_time": "2023-10-05T15:08:32.989861Z",
     "start_time": "2023-10-05T15:08:14.635089Z"
    }
   },
   "id": "351f5ea605a0a697"
  },
  {
   "cell_type": "markdown",
   "source": [
    "Request for multiple responses:"
   ],
   "metadata": {
    "collapsed": false
   },
   "id": "c3352e4679d21b8f"
  },
  {
   "cell_type": "code",
   "execution_count": 6,
   "id": "7de09654e5426126",
   "metadata": {
    "collapsed": false,
    "ExecuteTime": {
     "end_time": "2023-10-05T15:08:34.624340Z",
     "start_time": "2023-10-05T15:08:32.978392Z"
    }
   },
   "outputs": [
    {
     "name": "stdout",
     "output_type": "stream",
     "text": [
      "['The population of Brazil is 212,559,692 as of 2023.', 'The population of Brazil is 212,559,632 as of 2023.']\n"
     ]
    }
   ],
   "source": [
    "%%palm -n=2\n",
    "What is the population of Brazil? Give shortest answer. "
   ]
  },
  {
   "cell_type": "markdown",
   "source": [
    "When multiple results are requested the corresponding list stringified first. \n",
    "Since the LLM results are automatically copied to the clipboard, we can \"recover\" the list by pasting it to a code cell: "
   ],
   "metadata": {
    "collapsed": false
   },
   "id": "2ba90366839055ba"
  },
  {
   "cell_type": "code",
   "execution_count": 7,
   "outputs": [
    {
     "data": {
      "text/plain": "['The population of Brazil is 212,550,333 as of 2023.',\n 'The population of Brazil is 212,559,692 as of 2023.']"
     },
     "execution_count": 7,
     "metadata": {},
     "output_type": "execute_result"
    }
   ],
   "source": [
    "['The population of Brazil is 212,550,333 as of 2023.', 'The population of Brazil is 212,559,692 as of 2023.']"
   ],
   "metadata": {
    "collapsed": false,
    "ExecuteTime": {
     "end_time": "2023-10-05T15:08:34.625028Z",
     "start_time": "2023-10-05T15:08:34.617738Z"
    }
   },
   "id": "85d47b936ec6ed75"
  },
  {
   "cell_type": "markdown",
   "source": [
    "### Formatted output\n",
    "\n",
    "Here is an example of displaying as Markdown a result that contains plain text, LaTeX formulas, and Python code: "
   ],
   "metadata": {
    "collapsed": false
   },
   "id": "b87e5cbca0639da9"
  },
  {
   "cell_type": "code",
   "execution_count": 8,
   "outputs": [
    {
     "data": {
      "text/markdown": "A quadratic equation is an equation of the form $ax^2 + bx + c = 0$, where $a$, $b$, and $c$ are real numbers and $a \neq 0$. The solutions to a quadratic equation are the values of $x$ that make the equation true.\n\nThere are two main ways to solve a quadratic equation: by factoring and by using the quadratic formula.\n\nTo factor a quadratic equation, you need to find two numbers that multiply to $ac$ and add up to $b$. Once you have found these two numbers, you can factor the equation as $(x + p)(x + q) = 0$. Then, you can solve for $x$ by setting each factor equal to zero and solving the resulting equations.\n\nThe quadratic formula is given by $x = \\dfrac{-b \\pm \\sqrt{b^2 - 4ac}}{2a}$. To use the quadratic formula, you need to know the values of $a$, $b$, and $c$. Once you have these values, you can plug them into the quadratic formula and solve for $x$.\n\nHere is an example of how to solve a quadratic equation by factoring:\n\nSolve the equation $x^2 + 3x - 10 = 0$.\n\nTo factor this equation, we need to find two numbers that multiply to $-10$ and add up to $3$. The two numbers $-5$ and $2$ satisfy these conditions, so we can factor the equation as $(x - 5)(x + 2) = 0$.\n\nNow, we can solve for $x$ by setting each factor equal to zero and solving the resulting equations:\n\n$x - 5 = 0$ or $x + 2 = 0$\n\n$x = 5$ or $x = -2$\n\nTherefore, the solutions to the equation $x^2 + 3x - 10 = 0$ are $x = 5$ and $x = -2$.\n\nHere is an example of how to solve a quadratic equation using the quadratic formula:\n\nSolve the equation $x^2 - 2x - 8 = 0$.\n\nTo use the quadratic formula, we need to know the values of $a$, $b$, and $c$. In this case, $a = 1$, $b = -2$, and $c = -8$.\n\nPlugging these values into the quadratic formula, we get:\n\n$x = \\dfrac{-(-2) \\pm \\sqrt{(-2)^2 - 4 \\cdot 1 \\cdot (-8)}}{2 \\cdot 1}$\n\n$x = \\dfrac{2 \\pm \\sqrt{40}}{2}$\n\n$x = \\dfrac{2 \\pm 2\\sqrt{10}}{2}$\n\n$x = 1 \\pm \\sqrt{10}$\n\nTherefore, the solutions to the equation $x^2 - 2x - 8 = 0$ are $x = 1 + \\sqrt{10}$ and $x = 1 - \\sqrt{10}$.\n\nHere is a Python code for solving a quadratic equation:\n\n```python\ndef solve_quadratic_equation(a, b, c):\n    \"\"\"Solve the quadratic equation $ax^2 + bx + c = 0$.\n\n    Args:\n        a (int): The coefficient of the $x^2$ term.\n        b (int): The coefficient of the $x$ term.\n        c (int): The constant term.\n\n    Returns:\n        list: A list of the solutions to the equation.\n    \"\"\"\n\n    if a == 0:\n        if b == 0:\n            if c == 0:\n                return [0]\n            else:\n                return []\n        else:\n            return [-c / b]\n\n    d = b**2 - 4*a*c\n    if d < 0:\n        return []\n    elif d == 0:\n        return [-b / (2*a)]\n    else:\n        return [(-b + sqrt(d)) / (2*a), (-b - sqrt(d)) / (2*a)]\n```"
     },
     "metadata": {},
     "output_type": "display_data"
    }
   ],
   "source": [
    "%%palm -f markdown\n",
    "Show explanations, mathematical equations, and Python code for solving the quadratic equation. "
   ],
   "metadata": {
    "collapsed": false,
    "ExecuteTime": {
     "end_time": "2023-10-05T15:08:52.414753Z",
     "start_time": "2023-10-05T15:08:34.625814Z"
    }
   },
   "id": "ac3c1766151aa02a"
  }
 ],
 "metadata": {
  "kernelspec": {
   "display_name": "Python 3",
   "language": "python",
   "name": "python3"
  },
  "language_info": {
   "codemirror_mode": {
    "name": "ipython",
    "version": 3
   },
   "file_extension": ".py",
   "mimetype": "text/x-python",
   "name": "python",
   "nbconvert_exporter": "python",
   "pygments_lexer": "ipython3",
   "version": "3.10.8"
  }
 },
 "nbformat": 4,
 "nbformat_minor": 5
}

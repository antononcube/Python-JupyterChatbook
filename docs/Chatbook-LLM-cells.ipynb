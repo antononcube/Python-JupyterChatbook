{
 "cells": [
  {
   "cell_type": "markdown",
   "source": [
    "# Chatbook LLM cells\n",
    "\n",
    "## Setup\n",
    "\n",
    "Import the [\"JupyterChatbook\"](https://pypi.org/project/JupyterChatbook/) package:"
   ],
   "metadata": {
    "collapsed": false
   },
   "id": "ce86e36999145c3a"
  },
  {
   "cell_type": "code",
   "execution_count": 1,
   "outputs": [],
   "source": [
    "import JupyterChatbook"
   ],
   "metadata": {
    "collapsed": false,
    "ExecuteTime": {
     "end_time": "2023-10-02T16:52:17.558700Z",
     "start_time": "2023-10-02T16:52:17.385267Z"
    }
   },
   "id": "6aaafc8fbd63b09c"
  },
  {
   "cell_type": "code",
   "execution_count": 2,
   "outputs": [],
   "source": [
    "%load_ext JupyterChatbook"
   ],
   "metadata": {
    "collapsed": false,
    "ExecuteTime": {
     "end_time": "2023-10-02T16:52:17.562016Z",
     "start_time": "2023-10-02T16:52:17.559557Z"
    }
   },
   "id": "bfbb4a285056f1e2"
  },
  {
   "cell_type": "markdown",
   "source": [
    "-----\n",
    "\n",
    "## OpenAI / ChatGPT cells"
   ],
   "metadata": {
    "collapsed": false
   },
   "id": "5741cc6e1dd99a15"
  },
  {
   "cell_type": "code",
   "execution_count": 3,
   "outputs": [
    {
     "name": "stdout",
     "output_type": "stream",
     "text": [
      "As of 2021, the estimated population of South America is approximately 431 million people.\n",
      "As of the latest available data, it is estimated that approximately 430 million people live in South America.\n",
      "According to the United Nations estimates, approximately 430 million people currently live in South America as of 2021.\n"
     ]
    }
   ],
   "source": [
    "%%chatgpt -n=3 -t=1.2\n",
    "How many people live in South America?"
   ],
   "metadata": {
    "collapsed": false,
    "ExecuteTime": {
     "end_time": "2023-10-02T16:52:19.064872Z",
     "start_time": "2023-10-02T16:52:17.563332Z"
    }
   },
   "id": "654f9788fa8e75d0"
  },
  {
   "cell_type": "code",
   "execution_count": 4,
   "outputs": [
    {
     "name": "stdout",
     "output_type": "stream",
     "text": [
      "As of 2021, it is estimated that the popu\n",
      "As of 2021, the estimated popu\n",
      "As of 2021, the estimated popu\n"
     ]
    }
   ],
   "source": [
    "%%openai -n=3 --top_p=0.7 --max_tokens=null --stop='[lation,lion]'\n",
    "How many people live in South America?"
   ],
   "metadata": {
    "collapsed": false,
    "ExecuteTime": {
     "end_time": "2023-10-02T16:52:19.634557Z",
     "start_time": "2023-10-02T16:52:19.064620Z"
    }
   },
   "id": "d3ac11bf443f3ab2"
  },
  {
   "cell_type": "markdown",
   "source": [
    "-------\n",
    "\n",
    "## Google's PaLM cells"
   ],
   "metadata": {
    "collapsed": false
   },
   "id": "d1354130f76eab10"
  },
  {
   "cell_type": "code",
   "execution_count": 5,
   "outputs": [
    {
     "name": "stdout",
     "output_type": "stream",
     "text": [
      "Brazil has a population of 212,559,638 as of 2023. It is the world's fifth-most populous country, after China, India, the United States, and Indonesia. Brazil is the most populous country in Latin America and the only one in the region with more than 200 million inhabitants.\n"
     ]
    }
   ],
   "source": [
    "%%palm -n=1\n",
    "How many people live in Brazil?"
   ],
   "metadata": {
    "collapsed": false,
    "ExecuteTime": {
     "end_time": "2023-10-02T16:52:28.983214Z",
     "start_time": "2023-10-02T16:52:19.634804Z"
    }
   },
   "id": "7de09654e5426126"
  }
 ],
 "metadata": {
  "kernelspec": {
   "display_name": "Python 3",
   "language": "python",
   "name": "python3"
  },
  "language_info": {
   "codemirror_mode": {
    "name": "ipython",
    "version": 2
   },
   "file_extension": ".py",
   "mimetype": "text/x-python",
   "name": "python",
   "nbconvert_exporter": "python",
   "pygments_lexer": "ipython2",
   "version": "2.7.6"
  }
 },
 "nbformat": 4,
 "nbformat_minor": 5
}
